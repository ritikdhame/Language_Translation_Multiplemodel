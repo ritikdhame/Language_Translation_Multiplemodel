{
  "cells": [
    {
      "cell_type": "markdown",
      "source": [
        "# Importing dependencies"
      ],
      "metadata": {
        "id": "W7catomr6Nlz"
      }
    },
    {
      "cell_type": "code",
      "execution_count": 1,
      "metadata": {
        "_cell_guid": "b1076dfc-b9ad-4769-8c92-a6c4dae69d19",
        "_uuid": "8f2839f25d086af736a60e9eeb907d3b93b6e0e5",
        "colab": {
          "base_uri": "https://localhost:8080/"
        },
        "id": "QEGqLBCl3Smu",
        "outputId": "164a8e89-9533-4d49-d0de-238f3c2ff305"
      },
      "outputs": [
        {
          "output_type": "stream",
          "name": "stderr",
          "text": [
            "<ipython-input-1-6c67a8f8542f>:22: FutureWarning: Passing a negative integer is deprecated in version 1.0 and will not be supported in future version. Instead, use None to not limit the column width.\n",
            "  pd.set_option('display.max_colwidth', -1)\n"
          ]
        }
      ],
      "source": [
        "import numpy as np # linear algebra\n",
        "import pandas as pd # data processing, CSV file I/O (e.g. pd.read_csv)\n",
        "\n",
        "import os\n",
        "import string\n",
        "from string import digits\n",
        "import matplotlib.pyplot as plt\n",
        "%matplotlib inline\n",
        "import re\n",
        "\n",
        "import seaborn as sns\n",
        "from sklearn.utils import shuffle\n",
        "from sklearn.model_selection import train_test_split\n",
        "from keras.layers import Input, LSTM, Embedding, Dense\n",
        "from keras.models import Model\n",
        "\n",
        "\n",
        "\n",
        "pd.set_option('display.max_rows', 500)\n",
        "pd.set_option('display.max_columns', 500)\n",
        "pd.set_option('display.width', 1000)\n",
        "pd.set_option('display.max_colwidth', -1)\n",
        "\n",
        "# Any results you write to the current directory are saved as output."
      ]
    },
    {
      "cell_type": "code",
      "execution_count": 2,
      "metadata": {
        "_cell_guid": "79c7e3d0-c299-4dcb-8224-4455121ee9b0",
        "_uuid": "d629ff2d2480ee46fbb7e2d37f6b5fab8052498a",
        "colab": {
          "base_uri": "https://localhost:8080/"
        },
        "id": "HIZv8dMF3Smx",
        "outputId": "884716ac-dd47-4edc-845e-f526d2203f03"
      },
      "outputs": [
        {
          "output_type": "stream",
          "name": "stderr",
          "text": [
            "Downloading...\n",
            "From: https://drive.google.com/uc?id=1uGPKzMUWYqDzPox6GznsT1Hx4ERpiAMo\n",
            "To: /content/Hindi_English_Truncated_Corpus.csv\n",
            "100%|██████████| 41.4M/41.4M [00:01<00:00, 28.8MB/s]\n"
          ]
        }
      ],
      "source": [
        "import os\n",
        "import gdown\n",
        "import pandas as pd\n",
        "\n",
        "data_file_1 = 'Hindi_English_Truncated_Corpus.csv'\n",
        "\n",
        "# Check if the file exists in the current directory\n",
        "if not os.path.isfile(data_file_1):\n",
        "    # Download the data file from Google Drive\n",
        "    url = 'https://drive.google.com/uc?id=1uGPKzMUWYqDzPox6GznsT1Hx4ERpiAMo'\n",
        "    output = data_file_1\n",
        "    gdown.download(url, output, quiet=False)\n",
        "\n",
        "# Read the CSV file into a DataFrame\n",
        "lines = pd.read_csv(data_file_1)\n",
        "\n"
      ]
    },
    {
      "cell_type": "markdown",
      "source": [
        "# Data Exploration"
      ],
      "metadata": {
        "id": "FUzPxB3prYMQ"
      }
    },
    {
      "cell_type": "code",
      "execution_count": 3,
      "metadata": {
        "colab": {
          "base_uri": "https://localhost:8080/"
        },
        "id": "KLDxzZ8N3Smx",
        "outputId": "52ce4116-1194-41ee-fd69-1154a6c4f56d"
      },
      "outputs": [
        {
          "output_type": "execute_result",
          "data": {
            "text/plain": [
              "tides        50000\n",
              "ted          39881\n",
              "indic2012    37726\n",
              "Name: source, dtype: int64"
            ]
          },
          "metadata": {},
          "execution_count": 3
        }
      ],
      "source": [
        "lines['source'].value_counts()"
      ]
    },
    {
      "cell_type": "code",
      "execution_count": 4,
      "metadata": {
        "id": "u3WixR-q3Smy"
      },
      "outputs": [],
      "source": [
        "lines=lines[lines['source']=='ted']"
      ]
    },
    {
      "cell_type": "code",
      "execution_count": 5,
      "metadata": {
        "colab": {
          "base_uri": "https://localhost:8080/",
          "height": 676
        },
        "id": "LuMKQ_ee3Smy",
        "outputId": "d2d9835f-1d1f-4d24-8f9d-ab785635ce22"
      },
      "outputs": [
        {
          "output_type": "execute_result",
          "data": {
            "text/plain": [
              "   source                                                            english_sentence                                                        hindi_sentence\n",
              "0   ted    politicians do not have permission to do what needs to be done.             राजनीतिज्ञों के पास जो कार्य करना चाहिए, वह करने कि अनुमति नहीं है .\n",
              "1   ted    I'd like to tell you about one such child,                                  मई आपको ऐसे ही एक बच्चे के बारे में बताना चाहूंगी,                  \n",
              "3   ted    what we really mean is that they're bad at not paying attention.            हम ये नहीं कहना चाहते कि वो ध्यान नहीं दे पाते                      \n",
              "7   ted    And who are we to say, even, that they are wrong                            और हम होते कौन हैं यह कहने भी वाले कि वे गलत हैं                    \n",
              "13  ted    So there is some sort of justice                                            तो वहाँ न्याय है                                                    \n",
              "23  ted    This changed slowly                                                         धीरे धीरे ये सब बदला                                                \n",
              "26  ted    were being produced.                                                        उत्पन्न नहीं कि जाती थी.                                            \n",
              "30  ted    And you can see, this LED is going to glow.                                 और जैसा आप देख रहे है, ये एल.ई.डी. जल उठेगी।                        \n",
              "32  ted    to turn on the lights or to bring him a glass of water,                     लाईट जलाने के लिए या उनके लिए पानी लाने के लिए,                     \n",
              "35  ted    Can you imagine saying that?                                                क्या आप ये कल्पना कर सकते है                                        \n",
              "37  ted    Three: this is a good road in - right near where our factory is located.    तीसरी: ये हमारी फ़ैक्ट्री के पास की एक अपेक्षाकृत बेहतर सडक है।     \n",
              "39  ted    What's going on?”                                                           क्या हो रहा है ये?”                                                 \n",
              "42  ted    There are also financial reforms in rural China.                            ग्रामीण चीन में आर्थिक नवीनीकरण हुये हैं।                           \n",
              "49  ted    the family planning started in Vietnam and they went for smaller families.  वियतनाम में परिवार योजना शुरू हो गई और उनके परिवार छोटे होने लगे।   \n",
              "51  ted    I mean, at that time, trust me,                                             मेरा मतलब, उस समय, सही मानिए,                                       \n",
              "53  ted    Not only that,                                                              बस वही नहीं,                                                        \n",
              "55  ted    humans destroyed the commons that they depended on.                         मानवों ने उन ही साझे संसाधनों को नष्ट किया जिन पर वो आधारित थे।     \n",
              "56  ted    Almost goes to E, but otherwise the play would be over.                     रचना करीब करीब ई तक जाती है, मगर तब तो नाटक ख़त्म हो जाएगा.         \n",
              "63  ted    So I want to share with you a couple key insights                           मैं आपके साथ कुछ मुख्य सूत्र बाँटना चाहता हूँ                       \n",
              "66  ted    Many countries in the [unclear], they need legitimacy.                      [अस्पष्ट] के बहुत सारे राष्ट्रों को मान्यता चाहिए.                  "
            ],
            "text/html": [
              "\n",
              "  <div id=\"df-f4c63e4e-6220-4ac1-91db-77482245a8a8\">\n",
              "    <div class=\"colab-df-container\">\n",
              "      <div>\n",
              "<style scoped>\n",
              "    .dataframe tbody tr th:only-of-type {\n",
              "        vertical-align: middle;\n",
              "    }\n",
              "\n",
              "    .dataframe tbody tr th {\n",
              "        vertical-align: top;\n",
              "    }\n",
              "\n",
              "    .dataframe thead th {\n",
              "        text-align: right;\n",
              "    }\n",
              "</style>\n",
              "<table border=\"1\" class=\"dataframe\">\n",
              "  <thead>\n",
              "    <tr style=\"text-align: right;\">\n",
              "      <th></th>\n",
              "      <th>source</th>\n",
              "      <th>english_sentence</th>\n",
              "      <th>hindi_sentence</th>\n",
              "    </tr>\n",
              "  </thead>\n",
              "  <tbody>\n",
              "    <tr>\n",
              "      <th>0</th>\n",
              "      <td>ted</td>\n",
              "      <td>politicians do not have permission to do what needs to be done.</td>\n",
              "      <td>राजनीतिज्ञों के पास जो कार्य करना चाहिए, वह करने कि अनुमति नहीं है .</td>\n",
              "    </tr>\n",
              "    <tr>\n",
              "      <th>1</th>\n",
              "      <td>ted</td>\n",
              "      <td>I'd like to tell you about one such child,</td>\n",
              "      <td>मई आपको ऐसे ही एक बच्चे के बारे में बताना चाहूंगी,</td>\n",
              "    </tr>\n",
              "    <tr>\n",
              "      <th>3</th>\n",
              "      <td>ted</td>\n",
              "      <td>what we really mean is that they're bad at not paying attention.</td>\n",
              "      <td>हम ये नहीं कहना चाहते कि वो ध्यान नहीं दे पाते</td>\n",
              "    </tr>\n",
              "    <tr>\n",
              "      <th>7</th>\n",
              "      <td>ted</td>\n",
              "      <td>And who are we to say, even, that they are wrong</td>\n",
              "      <td>और हम होते कौन हैं यह कहने भी वाले कि वे गलत हैं</td>\n",
              "    </tr>\n",
              "    <tr>\n",
              "      <th>13</th>\n",
              "      <td>ted</td>\n",
              "      <td>So there is some sort of justice</td>\n",
              "      <td>तो वहाँ न्याय है</td>\n",
              "    </tr>\n",
              "    <tr>\n",
              "      <th>23</th>\n",
              "      <td>ted</td>\n",
              "      <td>This changed slowly</td>\n",
              "      <td>धीरे धीरे ये सब बदला</td>\n",
              "    </tr>\n",
              "    <tr>\n",
              "      <th>26</th>\n",
              "      <td>ted</td>\n",
              "      <td>were being produced.</td>\n",
              "      <td>उत्पन्न नहीं कि जाती थी.</td>\n",
              "    </tr>\n",
              "    <tr>\n",
              "      <th>30</th>\n",
              "      <td>ted</td>\n",
              "      <td>And you can see, this LED is going to glow.</td>\n",
              "      <td>और जैसा आप देख रहे है, ये एल.ई.डी. जल उठेगी।</td>\n",
              "    </tr>\n",
              "    <tr>\n",
              "      <th>32</th>\n",
              "      <td>ted</td>\n",
              "      <td>to turn on the lights or to bring him a glass of water,</td>\n",
              "      <td>लाईट जलाने के लिए या उनके लिए पानी लाने के लिए,</td>\n",
              "    </tr>\n",
              "    <tr>\n",
              "      <th>35</th>\n",
              "      <td>ted</td>\n",
              "      <td>Can you imagine saying that?</td>\n",
              "      <td>क्या आप ये कल्पना कर सकते है</td>\n",
              "    </tr>\n",
              "    <tr>\n",
              "      <th>37</th>\n",
              "      <td>ted</td>\n",
              "      <td>Three: this is a good road in - right near where our factory is located.</td>\n",
              "      <td>तीसरी: ये हमारी फ़ैक्ट्री के पास की एक अपेक्षाकृत बेहतर सडक है।</td>\n",
              "    </tr>\n",
              "    <tr>\n",
              "      <th>39</th>\n",
              "      <td>ted</td>\n",
              "      <td>What's going on?”</td>\n",
              "      <td>क्या हो रहा है ये?”</td>\n",
              "    </tr>\n",
              "    <tr>\n",
              "      <th>42</th>\n",
              "      <td>ted</td>\n",
              "      <td>There are also financial reforms in rural China.</td>\n",
              "      <td>ग्रामीण चीन में आर्थिक नवीनीकरण हुये हैं।</td>\n",
              "    </tr>\n",
              "    <tr>\n",
              "      <th>49</th>\n",
              "      <td>ted</td>\n",
              "      <td>the family planning started in Vietnam and they went for smaller families.</td>\n",
              "      <td>वियतनाम में परिवार योजना शुरू हो गई और उनके परिवार छोटे होने लगे।</td>\n",
              "    </tr>\n",
              "    <tr>\n",
              "      <th>51</th>\n",
              "      <td>ted</td>\n",
              "      <td>I mean, at that time, trust me,</td>\n",
              "      <td>मेरा मतलब, उस समय, सही मानिए,</td>\n",
              "    </tr>\n",
              "    <tr>\n",
              "      <th>53</th>\n",
              "      <td>ted</td>\n",
              "      <td>Not only that,</td>\n",
              "      <td>बस वही नहीं,</td>\n",
              "    </tr>\n",
              "    <tr>\n",
              "      <th>55</th>\n",
              "      <td>ted</td>\n",
              "      <td>humans destroyed the commons that they depended on.</td>\n",
              "      <td>मानवों ने उन ही साझे संसाधनों को नष्ट किया जिन पर वो आधारित थे।</td>\n",
              "    </tr>\n",
              "    <tr>\n",
              "      <th>56</th>\n",
              "      <td>ted</td>\n",
              "      <td>Almost goes to E, but otherwise the play would be over.</td>\n",
              "      <td>रचना करीब करीब ई तक जाती है, मगर तब तो नाटक ख़त्म हो जाएगा.</td>\n",
              "    </tr>\n",
              "    <tr>\n",
              "      <th>63</th>\n",
              "      <td>ted</td>\n",
              "      <td>So I want to share with you a couple key insights</td>\n",
              "      <td>मैं आपके साथ कुछ मुख्य सूत्र बाँटना चाहता हूँ</td>\n",
              "    </tr>\n",
              "    <tr>\n",
              "      <th>66</th>\n",
              "      <td>ted</td>\n",
              "      <td>Many countries in the [unclear], they need legitimacy.</td>\n",
              "      <td>[अस्पष्ट] के बहुत सारे राष्ट्रों को मान्यता चाहिए.</td>\n",
              "    </tr>\n",
              "  </tbody>\n",
              "</table>\n",
              "</div>\n",
              "      <button class=\"colab-df-convert\" onclick=\"convertToInteractive('df-f4c63e4e-6220-4ac1-91db-77482245a8a8')\"\n",
              "              title=\"Convert this dataframe to an interactive table.\"\n",
              "              style=\"display:none;\">\n",
              "        \n",
              "  <svg xmlns=\"http://www.w3.org/2000/svg\" height=\"24px\"viewBox=\"0 0 24 24\"\n",
              "       width=\"24px\">\n",
              "    <path d=\"M0 0h24v24H0V0z\" fill=\"none\"/>\n",
              "    <path d=\"M18.56 5.44l.94 2.06.94-2.06 2.06-.94-2.06-.94-.94-2.06-.94 2.06-2.06.94zm-11 1L8.5 8.5l.94-2.06 2.06-.94-2.06-.94L8.5 2.5l-.94 2.06-2.06.94zm10 10l.94 2.06.94-2.06 2.06-.94-2.06-.94-.94-2.06-.94 2.06-2.06.94z\"/><path d=\"M17.41 7.96l-1.37-1.37c-.4-.4-.92-.59-1.43-.59-.52 0-1.04.2-1.43.59L10.3 9.45l-7.72 7.72c-.78.78-.78 2.05 0 2.83L4 21.41c.39.39.9.59 1.41.59.51 0 1.02-.2 1.41-.59l7.78-7.78 2.81-2.81c.8-.78.8-2.07 0-2.86zM5.41 20L4 18.59l7.72-7.72 1.47 1.35L5.41 20z\"/>\n",
              "  </svg>\n",
              "      </button>\n",
              "      \n",
              "  <style>\n",
              "    .colab-df-container {\n",
              "      display:flex;\n",
              "      flex-wrap:wrap;\n",
              "      gap: 12px;\n",
              "    }\n",
              "\n",
              "    .colab-df-convert {\n",
              "      background-color: #E8F0FE;\n",
              "      border: none;\n",
              "      border-radius: 50%;\n",
              "      cursor: pointer;\n",
              "      display: none;\n",
              "      fill: #1967D2;\n",
              "      height: 32px;\n",
              "      padding: 0 0 0 0;\n",
              "      width: 32px;\n",
              "    }\n",
              "\n",
              "    .colab-df-convert:hover {\n",
              "      background-color: #E2EBFA;\n",
              "      box-shadow: 0px 1px 2px rgba(60, 64, 67, 0.3), 0px 1px 3px 1px rgba(60, 64, 67, 0.15);\n",
              "      fill: #174EA6;\n",
              "    }\n",
              "\n",
              "    [theme=dark] .colab-df-convert {\n",
              "      background-color: #3B4455;\n",
              "      fill: #D2E3FC;\n",
              "    }\n",
              "\n",
              "    [theme=dark] .colab-df-convert:hover {\n",
              "      background-color: #434B5C;\n",
              "      box-shadow: 0px 1px 3px 1px rgba(0, 0, 0, 0.15);\n",
              "      filter: drop-shadow(0px 1px 2px rgba(0, 0, 0, 0.3));\n",
              "      fill: #FFFFFF;\n",
              "    }\n",
              "  </style>\n",
              "\n",
              "      <script>\n",
              "        const buttonEl =\n",
              "          document.querySelector('#df-f4c63e4e-6220-4ac1-91db-77482245a8a8 button.colab-df-convert');\n",
              "        buttonEl.style.display =\n",
              "          google.colab.kernel.accessAllowed ? 'block' : 'none';\n",
              "\n",
              "        async function convertToInteractive(key) {\n",
              "          const element = document.querySelector('#df-f4c63e4e-6220-4ac1-91db-77482245a8a8');\n",
              "          const dataTable =\n",
              "            await google.colab.kernel.invokeFunction('convertToInteractive',\n",
              "                                                     [key], {});\n",
              "          if (!dataTable) return;\n",
              "\n",
              "          const docLinkHtml = 'Like what you see? Visit the ' +\n",
              "            '<a target=\"_blank\" href=https://colab.research.google.com/notebooks/data_table.ipynb>data table notebook</a>'\n",
              "            + ' to learn more about interactive tables.';\n",
              "          element.innerHTML = '';\n",
              "          dataTable['output_type'] = 'display_data';\n",
              "          await google.colab.output.renderOutput(dataTable, element);\n",
              "          const docLink = document.createElement('div');\n",
              "          docLink.innerHTML = docLinkHtml;\n",
              "          element.appendChild(docLink);\n",
              "        }\n",
              "      </script>\n",
              "    </div>\n",
              "  </div>\n",
              "  "
            ]
          },
          "metadata": {},
          "execution_count": 5
        }
      ],
      "source": [
        "lines.head(20)"
      ]
    },
    {
      "cell_type": "code",
      "execution_count": 6,
      "metadata": {
        "colab": {
          "base_uri": "https://localhost:8080/"
        },
        "id": "4li95KB83Smy",
        "outputId": "2c633c34-da08-493d-9dd7-16c4b5851584"
      },
      "outputs": [
        {
          "output_type": "execute_result",
          "data": {
            "text/plain": [
              "source              0\n",
              "english_sentence    0\n",
              "hindi_sentence      0\n",
              "dtype: int64"
            ]
          },
          "metadata": {},
          "execution_count": 6
        }
      ],
      "source": [
        "pd.isnull(lines).sum()"
      ]
    },
    {
      "cell_type": "markdown",
      "source": [
        "#preprocessing"
      ],
      "metadata": {
        "id": "AB6Mt6WTs7MT"
      }
    },
    {
      "cell_type": "code",
      "execution_count": 7,
      "metadata": {
        "id": "En2Tv9Oy3Smy"
      },
      "outputs": [],
      "source": [
        "# Removing NAN values\n",
        "lines=lines[~pd.isnull(lines['english_sentence'])]"
      ]
    },
    {
      "cell_type": "code",
      "execution_count": 8,
      "metadata": {
        "id": "ISYAqdGo3Smy"
      },
      "outputs": [],
      "source": [
        "#Removing duplicates\n",
        "lines.drop_duplicates(inplace=True)"
      ]
    },
    {
      "cell_type": "markdown",
      "metadata": {
        "id": "0_pwPbYo3Smz"
      },
      "source": [
        "Picking any 25000 rows from the dataset."
      ]
    },
    {
      "cell_type": "code",
      "execution_count": 9,
      "metadata": {
        "colab": {
          "base_uri": "https://localhost:8080/"
        },
        "id": "99s0-Tvm3Sm0",
        "outputId": "59c2261f-e366-4af1-b36b-98162f55be7d"
      },
      "outputs": [
        {
          "output_type": "execute_result",
          "data": {
            "text/plain": [
              "(25000, 3)"
            ]
          },
          "metadata": {},
          "execution_count": 9
        }
      ],
      "source": [
        "lines=lines.sample(n=25000,random_state=42)\n",
        "lines.shape"
      ]
    },
    {
      "cell_type": "code",
      "execution_count": 10,
      "metadata": {
        "id": "w6jjKH3a3Sm0"
      },
      "outputs": [],
      "source": [
        "# Lowercase all characters\n",
        "lines['english_sentence']=lines['english_sentence'].apply(lambda x: x.lower())\n",
        "lines['hindi_sentence']=lines['hindi_sentence'].apply(lambda x: x.lower())"
      ]
    },
    {
      "cell_type": "code",
      "execution_count": 11,
      "metadata": {
        "id": "PAUrMSxS3Sm1"
      },
      "outputs": [],
      "source": [
        "# Remove quotes\n",
        "lines['english_sentence']=lines['english_sentence'].apply(lambda x: re.sub(\"'\", '', x))\n",
        "lines['hindi_sentence']=lines['hindi_sentence'].apply(lambda x: re.sub(\"'\", '', x))"
      ]
    },
    {
      "cell_type": "code",
      "execution_count": 12,
      "metadata": {
        "id": "3PqX1UTT3Sm1"
      },
      "outputs": [],
      "source": [
        "exclude = set(string.punctuation) # Set of all special characters\n",
        "# Remove all the special characters\n",
        "lines['english_sentence']=lines['english_sentence'].apply(lambda x: ''.join(ch for ch in x if ch not in exclude))\n",
        "lines['hindi_sentence']=lines['hindi_sentence'].apply(lambda x: ''.join(ch for ch in x if ch not in exclude))"
      ]
    },
    {
      "cell_type": "code",
      "execution_count": 13,
      "metadata": {
        "id": "v8nDpKji3Sm1"
      },
      "outputs": [],
      "source": [
        "# Remove all numbers from text\n",
        "remove_digits = str.maketrans('', '', digits)\n",
        "lines['english_sentence']=lines['english_sentence'].apply(lambda x: x.translate(remove_digits))\n",
        "lines['hindi_sentence']=lines['hindi_sentence'].apply(lambda x: x.translate(remove_digits))\n",
        "\n",
        "lines['hindi_sentence'] = lines['hindi_sentence'].apply(lambda x: re.sub(\"[२३०८१५७९४६]\", \"\", x))\n",
        "\n",
        "# Remove extra spaces\n",
        "lines['english_sentence']=lines['english_sentence'].apply(lambda x: x.strip())\n",
        "lines['hindi_sentence']=lines['hindi_sentence'].apply(lambda x: x.strip())\n",
        "lines['english_sentence']=lines['english_sentence'].apply(lambda x: re.sub(\" +\", \" \", x))\n",
        "lines['hindi_sentence']=lines['hindi_sentence'].apply(lambda x: re.sub(\" +\", \" \", x))\n"
      ]
    },
    {
      "cell_type": "code",
      "execution_count": 14,
      "metadata": {
        "id": "6J_b7LUm3Sm1"
      },
      "outputs": [],
      "source": [
        "# Add start and end tokens to target sequences\n",
        "lines['hindi_sentence'] = lines['hindi_sentence'].apply(lambda x : 'START_ '+ x + ' _END')"
      ]
    },
    {
      "cell_type": "code",
      "execution_count": 15,
      "metadata": {
        "colab": {
          "base_uri": "https://localhost:8080/",
          "height": 267
        },
        "id": "vrLUSgEg3Sm1",
        "outputId": "c24f660c-273d-4ea8-b5e8-c5fe05b2acd5"
      },
      "outputs": [
        {
          "output_type": "execute_result",
          "data": {
            "text/plain": [
              "       source                                                                           english_sentence                                                                                            hindi_sentence\n",
              "82040   ted    we still dont know who her parents are who she is                                          START_ हम अभी तक नहीं जानते हैं कि उसके मातापिता कौन हैं वह कौन है _END                                 \n",
              "85038   ted    no keyboard                                                                                START_ कोई कुंजीपटल नहीं _END                                                                           \n",
              "58018   ted    but as far as being a performer                                                            START_ लेकिन एक कलाकार होने के साथ _END                                                                 \n",
              "74470   ted    and this particular balloon                                                                START_ और यह खास गुब्बारा _END                                                                          \n",
              "122330  ted    and its not as hard as you think integrate climate solutions into all of your innovations  START_ और जितना आपको लगता है यह उतना कठिन नहीं हैअपने सभी नवाचारों में जलवायु समाधान को एकीकृत करें _END"
            ],
            "text/html": [
              "\n",
              "  <div id=\"df-795834b4-eb1a-4c32-9018-c2c025780bb0\">\n",
              "    <div class=\"colab-df-container\">\n",
              "      <div>\n",
              "<style scoped>\n",
              "    .dataframe tbody tr th:only-of-type {\n",
              "        vertical-align: middle;\n",
              "    }\n",
              "\n",
              "    .dataframe tbody tr th {\n",
              "        vertical-align: top;\n",
              "    }\n",
              "\n",
              "    .dataframe thead th {\n",
              "        text-align: right;\n",
              "    }\n",
              "</style>\n",
              "<table border=\"1\" class=\"dataframe\">\n",
              "  <thead>\n",
              "    <tr style=\"text-align: right;\">\n",
              "      <th></th>\n",
              "      <th>source</th>\n",
              "      <th>english_sentence</th>\n",
              "      <th>hindi_sentence</th>\n",
              "    </tr>\n",
              "  </thead>\n",
              "  <tbody>\n",
              "    <tr>\n",
              "      <th>82040</th>\n",
              "      <td>ted</td>\n",
              "      <td>we still dont know who her parents are who she is</td>\n",
              "      <td>START_ हम अभी तक नहीं जानते हैं कि उसके मातापिता कौन हैं वह कौन है _END</td>\n",
              "    </tr>\n",
              "    <tr>\n",
              "      <th>85038</th>\n",
              "      <td>ted</td>\n",
              "      <td>no keyboard</td>\n",
              "      <td>START_ कोई कुंजीपटल नहीं _END</td>\n",
              "    </tr>\n",
              "    <tr>\n",
              "      <th>58018</th>\n",
              "      <td>ted</td>\n",
              "      <td>but as far as being a performer</td>\n",
              "      <td>START_ लेकिन एक कलाकार होने के साथ _END</td>\n",
              "    </tr>\n",
              "    <tr>\n",
              "      <th>74470</th>\n",
              "      <td>ted</td>\n",
              "      <td>and this particular balloon</td>\n",
              "      <td>START_ और यह खास गुब्बारा _END</td>\n",
              "    </tr>\n",
              "    <tr>\n",
              "      <th>122330</th>\n",
              "      <td>ted</td>\n",
              "      <td>and its not as hard as you think integrate climate solutions into all of your innovations</td>\n",
              "      <td>START_ और जितना आपको लगता है यह उतना कठिन नहीं हैअपने सभी नवाचारों में जलवायु समाधान को एकीकृत करें _END</td>\n",
              "    </tr>\n",
              "  </tbody>\n",
              "</table>\n",
              "</div>\n",
              "      <button class=\"colab-df-convert\" onclick=\"convertToInteractive('df-795834b4-eb1a-4c32-9018-c2c025780bb0')\"\n",
              "              title=\"Convert this dataframe to an interactive table.\"\n",
              "              style=\"display:none;\">\n",
              "        \n",
              "  <svg xmlns=\"http://www.w3.org/2000/svg\" height=\"24px\"viewBox=\"0 0 24 24\"\n",
              "       width=\"24px\">\n",
              "    <path d=\"M0 0h24v24H0V0z\" fill=\"none\"/>\n",
              "    <path d=\"M18.56 5.44l.94 2.06.94-2.06 2.06-.94-2.06-.94-.94-2.06-.94 2.06-2.06.94zm-11 1L8.5 8.5l.94-2.06 2.06-.94-2.06-.94L8.5 2.5l-.94 2.06-2.06.94zm10 10l.94 2.06.94-2.06 2.06-.94-2.06-.94-.94-2.06-.94 2.06-2.06.94z\"/><path d=\"M17.41 7.96l-1.37-1.37c-.4-.4-.92-.59-1.43-.59-.52 0-1.04.2-1.43.59L10.3 9.45l-7.72 7.72c-.78.78-.78 2.05 0 2.83L4 21.41c.39.39.9.59 1.41.59.51 0 1.02-.2 1.41-.59l7.78-7.78 2.81-2.81c.8-.78.8-2.07 0-2.86zM5.41 20L4 18.59l7.72-7.72 1.47 1.35L5.41 20z\"/>\n",
              "  </svg>\n",
              "      </button>\n",
              "      \n",
              "  <style>\n",
              "    .colab-df-container {\n",
              "      display:flex;\n",
              "      flex-wrap:wrap;\n",
              "      gap: 12px;\n",
              "    }\n",
              "\n",
              "    .colab-df-convert {\n",
              "      background-color: #E8F0FE;\n",
              "      border: none;\n",
              "      border-radius: 50%;\n",
              "      cursor: pointer;\n",
              "      display: none;\n",
              "      fill: #1967D2;\n",
              "      height: 32px;\n",
              "      padding: 0 0 0 0;\n",
              "      width: 32px;\n",
              "    }\n",
              "\n",
              "    .colab-df-convert:hover {\n",
              "      background-color: #E2EBFA;\n",
              "      box-shadow: 0px 1px 2px rgba(60, 64, 67, 0.3), 0px 1px 3px 1px rgba(60, 64, 67, 0.15);\n",
              "      fill: #174EA6;\n",
              "    }\n",
              "\n",
              "    [theme=dark] .colab-df-convert {\n",
              "      background-color: #3B4455;\n",
              "      fill: #D2E3FC;\n",
              "    }\n",
              "\n",
              "    [theme=dark] .colab-df-convert:hover {\n",
              "      background-color: #434B5C;\n",
              "      box-shadow: 0px 1px 3px 1px rgba(0, 0, 0, 0.15);\n",
              "      filter: drop-shadow(0px 1px 2px rgba(0, 0, 0, 0.3));\n",
              "      fill: #FFFFFF;\n",
              "    }\n",
              "  </style>\n",
              "\n",
              "      <script>\n",
              "        const buttonEl =\n",
              "          document.querySelector('#df-795834b4-eb1a-4c32-9018-c2c025780bb0 button.colab-df-convert');\n",
              "        buttonEl.style.display =\n",
              "          google.colab.kernel.accessAllowed ? 'block' : 'none';\n",
              "\n",
              "        async function convertToInteractive(key) {\n",
              "          const element = document.querySelector('#df-795834b4-eb1a-4c32-9018-c2c025780bb0');\n",
              "          const dataTable =\n",
              "            await google.colab.kernel.invokeFunction('convertToInteractive',\n",
              "                                                     [key], {});\n",
              "          if (!dataTable) return;\n",
              "\n",
              "          const docLinkHtml = 'Like what you see? Visit the ' +\n",
              "            '<a target=\"_blank\" href=https://colab.research.google.com/notebooks/data_table.ipynb>data table notebook</a>'\n",
              "            + ' to learn more about interactive tables.';\n",
              "          element.innerHTML = '';\n",
              "          dataTable['output_type'] = 'display_data';\n",
              "          await google.colab.output.renderOutput(dataTable, element);\n",
              "          const docLink = document.createElement('div');\n",
              "          docLink.innerHTML = docLinkHtml;\n",
              "          element.appendChild(docLink);\n",
              "        }\n",
              "      </script>\n",
              "    </div>\n",
              "  </div>\n",
              "  "
            ]
          },
          "metadata": {},
          "execution_count": 15
        }
      ],
      "source": [
        "lines.head()"
      ]
    },
    {
      "cell_type": "code",
      "execution_count": 16,
      "metadata": {
        "id": "o0GKW0T53Sm1"
      },
      "outputs": [],
      "source": [
        "### Get English and Hindi Vocabulary\n",
        "all_eng_words=set()\n",
        "for eng in lines['english_sentence']:\n",
        "    for word in eng.split():\n",
        "        if word not in all_eng_words:\n",
        "            all_eng_words.add(word)\n",
        "\n",
        "all_hindi_words=set()\n",
        "for hin in lines['hindi_sentence']:\n",
        "    for word in hin.split():\n",
        "        if word not in all_hindi_words:\n",
        "            all_hindi_words.add(word)"
      ]
    },
    {
      "cell_type": "code",
      "execution_count": 17,
      "metadata": {
        "colab": {
          "base_uri": "https://localhost:8080/"
        },
        "id": "AwkbKlBu3Sm1",
        "outputId": "38c87c1e-e1b2-4e0e-cf2a-db950375c795"
      },
      "outputs": [
        {
          "output_type": "execute_result",
          "data": {
            "text/plain": [
              "14030"
            ]
          },
          "metadata": {},
          "execution_count": 17
        }
      ],
      "source": [
        "len(all_eng_words)"
      ]
    },
    {
      "cell_type": "code",
      "execution_count": 18,
      "metadata": {
        "colab": {
          "base_uri": "https://localhost:8080/"
        },
        "id": "kwSxeYrI3Sm2",
        "outputId": "6be87b6a-700e-4b4e-e8c4-214ff32bbf12"
      },
      "outputs": [
        {
          "output_type": "execute_result",
          "data": {
            "text/plain": [
              "17540"
            ]
          },
          "metadata": {},
          "execution_count": 18
        }
      ],
      "source": [
        "len(all_hindi_words)"
      ]
    },
    {
      "cell_type": "code",
      "execution_count": 19,
      "metadata": {
        "id": "U26PUqia3Sm2"
      },
      "outputs": [],
      "source": [
        "lines['length_eng_sentence']=lines['english_sentence'].apply(lambda x:len(x.split(\" \")))\n",
        "lines['length_hin_sentence']=lines['hindi_sentence'].apply(lambda x:len(x.split(\" \")))"
      ]
    },
    {
      "cell_type": "code",
      "execution_count": 20,
      "metadata": {
        "colab": {
          "base_uri": "https://localhost:8080/",
          "height": 302
        },
        "id": "gmf92wls3Sm2",
        "outputId": "42577e81-82c7-4532-d3f5-1a55f2a8b78d"
      },
      "outputs": [
        {
          "output_type": "execute_result",
          "data": {
            "text/plain": [
              "       source                                                                           english_sentence                                                                                            hindi_sentence  length_eng_sentence  length_hin_sentence\n",
              "82040   ted    we still dont know who her parents are who she is                                          START_ हम अभी तक नहीं जानते हैं कि उसके मातापिता कौन हैं वह कौन है _END                                   11                   16                 \n",
              "85038   ted    no keyboard                                                                                START_ कोई कुंजीपटल नहीं _END                                                                             2                    5                  \n",
              "58018   ted    but as far as being a performer                                                            START_ लेकिन एक कलाकार होने के साथ _END                                                                   7                    8                  \n",
              "74470   ted    and this particular balloon                                                                START_ और यह खास गुब्बारा _END                                                                            4                    6                  \n",
              "122330  ted    and its not as hard as you think integrate climate solutions into all of your innovations  START_ और जितना आपको लगता है यह उतना कठिन नहीं हैअपने सभी नवाचारों में जलवायु समाधान को एकीकृत करें _END  16                   20                 "
            ],
            "text/html": [
              "\n",
              "  <div id=\"df-9276a609-5d69-4299-8675-451110f56584\">\n",
              "    <div class=\"colab-df-container\">\n",
              "      <div>\n",
              "<style scoped>\n",
              "    .dataframe tbody tr th:only-of-type {\n",
              "        vertical-align: middle;\n",
              "    }\n",
              "\n",
              "    .dataframe tbody tr th {\n",
              "        vertical-align: top;\n",
              "    }\n",
              "\n",
              "    .dataframe thead th {\n",
              "        text-align: right;\n",
              "    }\n",
              "</style>\n",
              "<table border=\"1\" class=\"dataframe\">\n",
              "  <thead>\n",
              "    <tr style=\"text-align: right;\">\n",
              "      <th></th>\n",
              "      <th>source</th>\n",
              "      <th>english_sentence</th>\n",
              "      <th>hindi_sentence</th>\n",
              "      <th>length_eng_sentence</th>\n",
              "      <th>length_hin_sentence</th>\n",
              "    </tr>\n",
              "  </thead>\n",
              "  <tbody>\n",
              "    <tr>\n",
              "      <th>82040</th>\n",
              "      <td>ted</td>\n",
              "      <td>we still dont know who her parents are who she is</td>\n",
              "      <td>START_ हम अभी तक नहीं जानते हैं कि उसके मातापिता कौन हैं वह कौन है _END</td>\n",
              "      <td>11</td>\n",
              "      <td>16</td>\n",
              "    </tr>\n",
              "    <tr>\n",
              "      <th>85038</th>\n",
              "      <td>ted</td>\n",
              "      <td>no keyboard</td>\n",
              "      <td>START_ कोई कुंजीपटल नहीं _END</td>\n",
              "      <td>2</td>\n",
              "      <td>5</td>\n",
              "    </tr>\n",
              "    <tr>\n",
              "      <th>58018</th>\n",
              "      <td>ted</td>\n",
              "      <td>but as far as being a performer</td>\n",
              "      <td>START_ लेकिन एक कलाकार होने के साथ _END</td>\n",
              "      <td>7</td>\n",
              "      <td>8</td>\n",
              "    </tr>\n",
              "    <tr>\n",
              "      <th>74470</th>\n",
              "      <td>ted</td>\n",
              "      <td>and this particular balloon</td>\n",
              "      <td>START_ और यह खास गुब्बारा _END</td>\n",
              "      <td>4</td>\n",
              "      <td>6</td>\n",
              "    </tr>\n",
              "    <tr>\n",
              "      <th>122330</th>\n",
              "      <td>ted</td>\n",
              "      <td>and its not as hard as you think integrate climate solutions into all of your innovations</td>\n",
              "      <td>START_ और जितना आपको लगता है यह उतना कठिन नहीं हैअपने सभी नवाचारों में जलवायु समाधान को एकीकृत करें _END</td>\n",
              "      <td>16</td>\n",
              "      <td>20</td>\n",
              "    </tr>\n",
              "  </tbody>\n",
              "</table>\n",
              "</div>\n",
              "      <button class=\"colab-df-convert\" onclick=\"convertToInteractive('df-9276a609-5d69-4299-8675-451110f56584')\"\n",
              "              title=\"Convert this dataframe to an interactive table.\"\n",
              "              style=\"display:none;\">\n",
              "        \n",
              "  <svg xmlns=\"http://www.w3.org/2000/svg\" height=\"24px\"viewBox=\"0 0 24 24\"\n",
              "       width=\"24px\">\n",
              "    <path d=\"M0 0h24v24H0V0z\" fill=\"none\"/>\n",
              "    <path d=\"M18.56 5.44l.94 2.06.94-2.06 2.06-.94-2.06-.94-.94-2.06-.94 2.06-2.06.94zm-11 1L8.5 8.5l.94-2.06 2.06-.94-2.06-.94L8.5 2.5l-.94 2.06-2.06.94zm10 10l.94 2.06.94-2.06 2.06-.94-2.06-.94-.94-2.06-.94 2.06-2.06.94z\"/><path d=\"M17.41 7.96l-1.37-1.37c-.4-.4-.92-.59-1.43-.59-.52 0-1.04.2-1.43.59L10.3 9.45l-7.72 7.72c-.78.78-.78 2.05 0 2.83L4 21.41c.39.39.9.59 1.41.59.51 0 1.02-.2 1.41-.59l7.78-7.78 2.81-2.81c.8-.78.8-2.07 0-2.86zM5.41 20L4 18.59l7.72-7.72 1.47 1.35L5.41 20z\"/>\n",
              "  </svg>\n",
              "      </button>\n",
              "      \n",
              "  <style>\n",
              "    .colab-df-container {\n",
              "      display:flex;\n",
              "      flex-wrap:wrap;\n",
              "      gap: 12px;\n",
              "    }\n",
              "\n",
              "    .colab-df-convert {\n",
              "      background-color: #E8F0FE;\n",
              "      border: none;\n",
              "      border-radius: 50%;\n",
              "      cursor: pointer;\n",
              "      display: none;\n",
              "      fill: #1967D2;\n",
              "      height: 32px;\n",
              "      padding: 0 0 0 0;\n",
              "      width: 32px;\n",
              "    }\n",
              "\n",
              "    .colab-df-convert:hover {\n",
              "      background-color: #E2EBFA;\n",
              "      box-shadow: 0px 1px 2px rgba(60, 64, 67, 0.3), 0px 1px 3px 1px rgba(60, 64, 67, 0.15);\n",
              "      fill: #174EA6;\n",
              "    }\n",
              "\n",
              "    [theme=dark] .colab-df-convert {\n",
              "      background-color: #3B4455;\n",
              "      fill: #D2E3FC;\n",
              "    }\n",
              "\n",
              "    [theme=dark] .colab-df-convert:hover {\n",
              "      background-color: #434B5C;\n",
              "      box-shadow: 0px 1px 3px 1px rgba(0, 0, 0, 0.15);\n",
              "      filter: drop-shadow(0px 1px 2px rgba(0, 0, 0, 0.3));\n",
              "      fill: #FFFFFF;\n",
              "    }\n",
              "  </style>\n",
              "\n",
              "      <script>\n",
              "        const buttonEl =\n",
              "          document.querySelector('#df-9276a609-5d69-4299-8675-451110f56584 button.colab-df-convert');\n",
              "        buttonEl.style.display =\n",
              "          google.colab.kernel.accessAllowed ? 'block' : 'none';\n",
              "\n",
              "        async function convertToInteractive(key) {\n",
              "          const element = document.querySelector('#df-9276a609-5d69-4299-8675-451110f56584');\n",
              "          const dataTable =\n",
              "            await google.colab.kernel.invokeFunction('convertToInteractive',\n",
              "                                                     [key], {});\n",
              "          if (!dataTable) return;\n",
              "\n",
              "          const docLinkHtml = 'Like what you see? Visit the ' +\n",
              "            '<a target=\"_blank\" href=https://colab.research.google.com/notebooks/data_table.ipynb>data table notebook</a>'\n",
              "            + ' to learn more about interactive tables.';\n",
              "          element.innerHTML = '';\n",
              "          dataTable['output_type'] = 'display_data';\n",
              "          await google.colab.output.renderOutput(dataTable, element);\n",
              "          const docLink = document.createElement('div');\n",
              "          docLink.innerHTML = docLinkHtml;\n",
              "          element.appendChild(docLink);\n",
              "        }\n",
              "      </script>\n",
              "    </div>\n",
              "  </div>\n",
              "  "
            ]
          },
          "metadata": {},
          "execution_count": 20
        }
      ],
      "source": [
        "lines.head()"
      ]
    },
    {
      "cell_type": "code",
      "execution_count": 21,
      "metadata": {
        "colab": {
          "base_uri": "https://localhost:8080/"
        },
        "id": "IqoW0lWI3Sm2",
        "outputId": "aaed9043-4dea-4ad9-d115-6193f8fdd56e"
      },
      "outputs": [
        {
          "output_type": "execute_result",
          "data": {
            "text/plain": [
              "(0, 5)"
            ]
          },
          "metadata": {},
          "execution_count": 21
        }
      ],
      "source": [
        "lines[lines['length_eng_sentence']>30].shape"
      ]
    },
    {
      "cell_type": "code",
      "execution_count": 22,
      "metadata": {
        "id": "bJpXiPFP3Sm2"
      },
      "outputs": [],
      "source": [
        "lines=lines[lines['length_eng_sentence']<=20]\n",
        "lines=lines[lines['length_hin_sentence']<=20]"
      ]
    },
    {
      "cell_type": "code",
      "execution_count": 23,
      "metadata": {
        "colab": {
          "base_uri": "https://localhost:8080/"
        },
        "id": "XEDfx57f3Sm3",
        "outputId": "b91082f8-561b-4342-f10e-b385d664ccaf"
      },
      "outputs": [
        {
          "output_type": "execute_result",
          "data": {
            "text/plain": [
              "(24774, 5)"
            ]
          },
          "metadata": {},
          "execution_count": 23
        }
      ],
      "source": [
        "lines.shape"
      ]
    },
    {
      "cell_type": "code",
      "execution_count": 24,
      "metadata": {
        "colab": {
          "base_uri": "https://localhost:8080/"
        },
        "id": "iwdonXq43Sm3",
        "outputId": "a920cf6c-74f6-482e-d885-4eb2a7cd5a6b"
      },
      "outputs": [
        {
          "output_type": "stream",
          "name": "stdout",
          "text": [
            "maximum length of Hindi Sentence  20\n",
            "maximum length of English Sentence  20\n"
          ]
        }
      ],
      "source": [
        "print(\"maximum length of Hindi Sentence \",max(lines['length_hin_sentence']))\n",
        "print(\"maximum length of English Sentence \",max(lines['length_eng_sentence']))"
      ]
    },
    {
      "cell_type": "code",
      "execution_count": 25,
      "metadata": {
        "id": "jt9ZXGpF3Sm3"
      },
      "outputs": [],
      "source": [
        "# Assigning max length values to max_length_srce & max_length_tar\n",
        "max_length_src=max(lines['length_hin_sentence'])\n",
        "max_length_tar=max(lines['length_eng_sentence'])"
      ]
    },
    {
      "cell_type": "code",
      "execution_count": 26,
      "metadata": {
        "colab": {
          "base_uri": "https://localhost:8080/"
        },
        "id": "2GsyWnHh3Sm3",
        "outputId": "d2d29d9d-8add-4841-9d07-b7d507c10010"
      },
      "outputs": [
        {
          "output_type": "execute_result",
          "data": {
            "text/plain": [
              "(14030, 17540)"
            ]
          },
          "metadata": {},
          "execution_count": 26
        }
      ],
      "source": [
        "input_words = sorted(list(all_eng_words))\n",
        "target_words = sorted(list(all_hindi_words))\n",
        "num_encoder_tokens = len(all_eng_words)\n",
        "num_decoder_tokens = len(all_hindi_words)\n",
        "num_encoder_tokens, num_decoder_tokens"
      ]
    },
    {
      "cell_type": "code",
      "execution_count": 27,
      "metadata": {
        "colab": {
          "base_uri": "https://localhost:8080/",
          "height": 476
        },
        "id": "EtqNAhX_3Sm3",
        "outputId": "db1a9dfc-9ebe-4b50-e5d2-265f6e49f783"
      },
      "outputs": [
        {
          "output_type": "execute_result",
          "data": {
            "text/plain": [
              "       source                                                     english_sentence                                                                           hindi_sentence  length_eng_sentence  length_hin_sentence\n",
              "9940    ted    isnt possible if we keep having an educational system                START_ बिल्कुल संभव नहीं होगा यदि हम ऎसी शिक्षाप्रणाली को पालते रहेंगे _END              9                    13                 \n",
              "122553  ted    so they wait until winter                                            START_ अतः वे जाडे का इन्तजार करते हैं _END                                              5                    9                  \n",
              "113836  ted    the blue there is india                                              START_ और ये नीला वाला भारत है। _END                                                     5                    8                  \n",
              "28567   ted    you can get video annotations of the event that youre reading about  START_ आप जिस घटना के बारे में पढ़ रहे हैं उसके वीडियो एनोटेशन प्राप्त कर सकते हैं _END  12                   18                 \n",
              "18306   ted    and to groom them or show them                                       START_ और उन्हें तैयार करने का और उन्हें ये दिखा पाने का कि _END                         7                    14                 \n",
              "117148  ted    was that it was legal to sell you                                    START_ ये कानूनन सही है कि आपको बेचा जाय _END                                            8                    10                 \n",
              "61537   ted    precipice running to and running from human beings                   START_ इंसानों की ओर और इंसानों से भागती हुई खाई _END                                    8                    11                 \n",
              "21704   ted    if you have another or seconds                                       START_ यदि आपके पास या सेकंड है _END                                                     6                    8                  \n",
              "34910   ted    even if it comes in a shape                                          START_ चाहे यह एक अप्रत्याशित _END                                                       7                    6                  \n",
              "36037   ted    and that is a change in the mindset                                  START_ और यह मानसिकता में बदलाव है _END                                                  8                    8                  "
            ],
            "text/html": [
              "\n",
              "  <div id=\"df-60f23c6c-b618-4fe6-8db5-fa70f1ccb775\">\n",
              "    <div class=\"colab-df-container\">\n",
              "      <div>\n",
              "<style scoped>\n",
              "    .dataframe tbody tr th:only-of-type {\n",
              "        vertical-align: middle;\n",
              "    }\n",
              "\n",
              "    .dataframe tbody tr th {\n",
              "        vertical-align: top;\n",
              "    }\n",
              "\n",
              "    .dataframe thead th {\n",
              "        text-align: right;\n",
              "    }\n",
              "</style>\n",
              "<table border=\"1\" class=\"dataframe\">\n",
              "  <thead>\n",
              "    <tr style=\"text-align: right;\">\n",
              "      <th></th>\n",
              "      <th>source</th>\n",
              "      <th>english_sentence</th>\n",
              "      <th>hindi_sentence</th>\n",
              "      <th>length_eng_sentence</th>\n",
              "      <th>length_hin_sentence</th>\n",
              "    </tr>\n",
              "  </thead>\n",
              "  <tbody>\n",
              "    <tr>\n",
              "      <th>9940</th>\n",
              "      <td>ted</td>\n",
              "      <td>isnt possible if we keep having an educational system</td>\n",
              "      <td>START_ बिल्कुल संभव नहीं होगा यदि हम ऎसी शिक्षाप्रणाली को पालते रहेंगे _END</td>\n",
              "      <td>9</td>\n",
              "      <td>13</td>\n",
              "    </tr>\n",
              "    <tr>\n",
              "      <th>122553</th>\n",
              "      <td>ted</td>\n",
              "      <td>so they wait until winter</td>\n",
              "      <td>START_ अतः वे जाडे का इन्तजार करते हैं _END</td>\n",
              "      <td>5</td>\n",
              "      <td>9</td>\n",
              "    </tr>\n",
              "    <tr>\n",
              "      <th>113836</th>\n",
              "      <td>ted</td>\n",
              "      <td>the blue there is india</td>\n",
              "      <td>START_ और ये नीला वाला भारत है। _END</td>\n",
              "      <td>5</td>\n",
              "      <td>8</td>\n",
              "    </tr>\n",
              "    <tr>\n",
              "      <th>28567</th>\n",
              "      <td>ted</td>\n",
              "      <td>you can get video annotations of the event that youre reading about</td>\n",
              "      <td>START_ आप जिस घटना के बारे में पढ़ रहे हैं उसके वीडियो एनोटेशन प्राप्त कर सकते हैं _END</td>\n",
              "      <td>12</td>\n",
              "      <td>18</td>\n",
              "    </tr>\n",
              "    <tr>\n",
              "      <th>18306</th>\n",
              "      <td>ted</td>\n",
              "      <td>and to groom them or show them</td>\n",
              "      <td>START_ और उन्हें तैयार करने का और उन्हें ये दिखा पाने का कि _END</td>\n",
              "      <td>7</td>\n",
              "      <td>14</td>\n",
              "    </tr>\n",
              "    <tr>\n",
              "      <th>117148</th>\n",
              "      <td>ted</td>\n",
              "      <td>was that it was legal to sell you</td>\n",
              "      <td>START_ ये कानूनन सही है कि आपको बेचा जाय _END</td>\n",
              "      <td>8</td>\n",
              "      <td>10</td>\n",
              "    </tr>\n",
              "    <tr>\n",
              "      <th>61537</th>\n",
              "      <td>ted</td>\n",
              "      <td>precipice running to and running from human beings</td>\n",
              "      <td>START_ इंसानों की ओर और इंसानों से भागती हुई खाई _END</td>\n",
              "      <td>8</td>\n",
              "      <td>11</td>\n",
              "    </tr>\n",
              "    <tr>\n",
              "      <th>21704</th>\n",
              "      <td>ted</td>\n",
              "      <td>if you have another or seconds</td>\n",
              "      <td>START_ यदि आपके पास या सेकंड है _END</td>\n",
              "      <td>6</td>\n",
              "      <td>8</td>\n",
              "    </tr>\n",
              "    <tr>\n",
              "      <th>34910</th>\n",
              "      <td>ted</td>\n",
              "      <td>even if it comes in a shape</td>\n",
              "      <td>START_ चाहे यह एक अप्रत्याशित _END</td>\n",
              "      <td>7</td>\n",
              "      <td>6</td>\n",
              "    </tr>\n",
              "    <tr>\n",
              "      <th>36037</th>\n",
              "      <td>ted</td>\n",
              "      <td>and that is a change in the mindset</td>\n",
              "      <td>START_ और यह मानसिकता में बदलाव है _END</td>\n",
              "      <td>8</td>\n",
              "      <td>8</td>\n",
              "    </tr>\n",
              "  </tbody>\n",
              "</table>\n",
              "</div>\n",
              "      <button class=\"colab-df-convert\" onclick=\"convertToInteractive('df-60f23c6c-b618-4fe6-8db5-fa70f1ccb775')\"\n",
              "              title=\"Convert this dataframe to an interactive table.\"\n",
              "              style=\"display:none;\">\n",
              "        \n",
              "  <svg xmlns=\"http://www.w3.org/2000/svg\" height=\"24px\"viewBox=\"0 0 24 24\"\n",
              "       width=\"24px\">\n",
              "    <path d=\"M0 0h24v24H0V0z\" fill=\"none\"/>\n",
              "    <path d=\"M18.56 5.44l.94 2.06.94-2.06 2.06-.94-2.06-.94-.94-2.06-.94 2.06-2.06.94zm-11 1L8.5 8.5l.94-2.06 2.06-.94-2.06-.94L8.5 2.5l-.94 2.06-2.06.94zm10 10l.94 2.06.94-2.06 2.06-.94-2.06-.94-.94-2.06-.94 2.06-2.06.94z\"/><path d=\"M17.41 7.96l-1.37-1.37c-.4-.4-.92-.59-1.43-.59-.52 0-1.04.2-1.43.59L10.3 9.45l-7.72 7.72c-.78.78-.78 2.05 0 2.83L4 21.41c.39.39.9.59 1.41.59.51 0 1.02-.2 1.41-.59l7.78-7.78 2.81-2.81c.8-.78.8-2.07 0-2.86zM5.41 20L4 18.59l7.72-7.72 1.47 1.35L5.41 20z\"/>\n",
              "  </svg>\n",
              "      </button>\n",
              "      \n",
              "  <style>\n",
              "    .colab-df-container {\n",
              "      display:flex;\n",
              "      flex-wrap:wrap;\n",
              "      gap: 12px;\n",
              "    }\n",
              "\n",
              "    .colab-df-convert {\n",
              "      background-color: #E8F0FE;\n",
              "      border: none;\n",
              "      border-radius: 50%;\n",
              "      cursor: pointer;\n",
              "      display: none;\n",
              "      fill: #1967D2;\n",
              "      height: 32px;\n",
              "      padding: 0 0 0 0;\n",
              "      width: 32px;\n",
              "    }\n",
              "\n",
              "    .colab-df-convert:hover {\n",
              "      background-color: #E2EBFA;\n",
              "      box-shadow: 0px 1px 2px rgba(60, 64, 67, 0.3), 0px 1px 3px 1px rgba(60, 64, 67, 0.15);\n",
              "      fill: #174EA6;\n",
              "    }\n",
              "\n",
              "    [theme=dark] .colab-df-convert {\n",
              "      background-color: #3B4455;\n",
              "      fill: #D2E3FC;\n",
              "    }\n",
              "\n",
              "    [theme=dark] .colab-df-convert:hover {\n",
              "      background-color: #434B5C;\n",
              "      box-shadow: 0px 1px 3px 1px rgba(0, 0, 0, 0.15);\n",
              "      filter: drop-shadow(0px 1px 2px rgba(0, 0, 0, 0.3));\n",
              "      fill: #FFFFFF;\n",
              "    }\n",
              "  </style>\n",
              "\n",
              "      <script>\n",
              "        const buttonEl =\n",
              "          document.querySelector('#df-60f23c6c-b618-4fe6-8db5-fa70f1ccb775 button.colab-df-convert');\n",
              "        buttonEl.style.display =\n",
              "          google.colab.kernel.accessAllowed ? 'block' : 'none';\n",
              "\n",
              "        async function convertToInteractive(key) {\n",
              "          const element = document.querySelector('#df-60f23c6c-b618-4fe6-8db5-fa70f1ccb775');\n",
              "          const dataTable =\n",
              "            await google.colab.kernel.invokeFunction('convertToInteractive',\n",
              "                                                     [key], {});\n",
              "          if (!dataTable) return;\n",
              "\n",
              "          const docLinkHtml = 'Like what you see? Visit the ' +\n",
              "            '<a target=\"_blank\" href=https://colab.research.google.com/notebooks/data_table.ipynb>data table notebook</a>'\n",
              "            + ' to learn more about interactive tables.';\n",
              "          element.innerHTML = '';\n",
              "          dataTable['output_type'] = 'display_data';\n",
              "          await google.colab.output.renderOutput(dataTable, element);\n",
              "          const docLink = document.createElement('div');\n",
              "          docLink.innerHTML = docLinkHtml;\n",
              "          element.appendChild(docLink);\n",
              "        }\n",
              "      </script>\n",
              "    </div>\n",
              "  </div>\n",
              "  "
            ]
          },
          "metadata": {},
          "execution_count": 27
        }
      ],
      "source": [
        "num_decoder_tokens += 1  # Increase the number of decoder tokens by 1 for zero padding\n",
        "\n",
        "input_token_index = dict([(word, i+1) for i, word in enumerate(input_words)])\n",
        "# Create a dictionary mapping words to their corresponding integer indices in the input\n",
        "\n",
        "target_token_index = dict([(word, i+1) for i, word in enumerate(target_words)])\n",
        "# Create a dictionary mapping words to their corresponding integer indices in the target\n",
        "\n",
        "reverse_input_char_index = dict((i, word) for word, i in input_token_index.items())\n",
        "# Create a reverse dictionary mapping integer indices to their corresponding words in the input\n",
        "\n",
        "reverse_target_char_index = dict((i, word) for word, i in target_token_index.items())\n",
        "# Create a reverse dictionary mapping integer indices to their corresponding words in the target\n",
        "\n",
        "lines = shuffle(lines)  # Shuffle the DataFrame 'lines'\n",
        "\n",
        "lines.head(10)  # Display the first 10 rows of the shuffled DataFrame\n"
      ]
    },
    {
      "cell_type": "markdown",
      "metadata": {
        "id": "988dkpWN3Sm4"
      },
      "source": [
        "### Split the data into train and test"
      ]
    },
    {
      "cell_type": "code",
      "execution_count": 28,
      "metadata": {
        "colab": {
          "base_uri": "https://localhost:8080/"
        },
        "id": "-ystsnoN3Sm4",
        "outputId": "0bd30097-4e72-4979-fdd1-7039b62f92be"
      },
      "outputs": [
        {
          "output_type": "execute_result",
          "data": {
            "text/plain": [
              "((19819,), (4955,))"
            ]
          },
          "metadata": {},
          "execution_count": 28
        }
      ],
      "source": [
        "X, y = lines['english_sentence'], lines['hindi_sentence']\n",
        "X_train, X_test, y_train, y_test = train_test_split(X, y, test_size = 0.2,random_state=42)\n",
        "X_train.shape, X_test.shape"
      ]
    },
    {
      "cell_type": "markdown",
      "metadata": {
        "id": "ERdGdJ-P3Sm4"
      },
      "source": [
        "### Let us save this data"
      ]
    },
    {
      "cell_type": "code",
      "execution_count": 29,
      "metadata": {
        "id": "TzlkdNZP3Sm4"
      },
      "outputs": [],
      "source": [
        "X_train.to_pickle('X_train.pkl')\n",
        "X_test.to_pickle('X_test.pkl')\n"
      ]
    },
    {
      "cell_type": "code",
      "execution_count": 30,
      "metadata": {
        "id": "L7UP_aOu3Sm4"
      },
      "outputs": [],
      "source": [
        "def generate_batch(X = X_train, y = y_train, batch_size = 128):\n",
        "    ''' Generate a batch of data '''\n",
        "    while True:\n",
        "        for j in range(0, len(X), batch_size):\n",
        "            encoder_input_data = np.zeros((batch_size, max_length_src),dtype='float32')\n",
        "            decoder_input_data = np.zeros((batch_size, max_length_tar),dtype='float32')\n",
        "            decoder_target_data = np.zeros((batch_size, max_length_tar, num_decoder_tokens),dtype='float32')\n",
        "            for i, (input_text, target_text) in enumerate(zip(X[j:j+batch_size], y[j:j+batch_size])):\n",
        "                for t, word in enumerate(input_text.split()):\n",
        "                    encoder_input_data[i, t] = input_token_index[word] # encoder input seq\n",
        "                for t, word in enumerate(target_text.split()):\n",
        "                    if t<len(target_text.split())-1:\n",
        "                        decoder_input_data[i, t] = target_token_index[word] # decoder input seq\n",
        "                    if t>0:\n",
        "                        # decoder target sequence (one hot encoded)\n",
        "                        # does not include the START_ token\n",
        "                        # Offset by one timestep\n",
        "                        decoder_target_data[i, t - 1, target_token_index[word]] = 1.\n",
        "            yield([encoder_input_data, decoder_input_data], decoder_target_data)"
      ]
    },
    {
      "cell_type": "markdown",
      "metadata": {
        "id": "kVUd5TOb3Sm4"
      },
      "source": [
        "### Encoder-Decoder Architecture"
      ]
    },
    {
      "cell_type": "code",
      "source": [
        "import tensorflow as tf\n",
        "latent_dim = 300\n",
        "# Encoder\n",
        "encoder_inputs = Input(shape=(None,))\n",
        "enc_emb =  Embedding(num_encoder_tokens, latent_dim, mask_zero = True)(encoder_inputs)\n",
        "encoder_lstm = LSTM(latent_dim, return_state=True)\n",
        "encoder_outputs, state_h, state_c = encoder_lstm(enc_emb)\n",
        "# We discard `encoder_outputs` and only keep the states.\n",
        "encoder_states = [state_h, state_c]\n",
        "\n",
        "\n",
        "# Set up the decoder, using `encoder_states` as initial state.\n",
        "decoder_inputs = Input(shape=(None,))\n",
        "dec_emb_layer = Embedding(num_decoder_tokens, latent_dim, mask_zero = True)\n",
        "dec_emb = dec_emb_layer(decoder_inputs)\n",
        "# We set up our decoder to return full output sequences,\n",
        "# and to return internal states as well. We don't use the\n",
        "# return states in the training model, but we will use them in inference.\n",
        "decoder_lstm = LSTM(latent_dim, return_sequences=True, return_state=True)\n",
        "decoder_outputs, _, _ = decoder_lstm(dec_emb,\n",
        "                                     initial_state=encoder_states)\n",
        "decoder_dense = Dense(num_decoder_tokens, activation='softmax')\n",
        "decoder_outputs = decoder_dense(decoder_outputs)\n",
        "\n",
        "# Define the model that will turn\n",
        "# `encoder_input_data` & `decoder_input_data` into `decoder_target_data`\n",
        "model = tf.keras.Model([encoder_inputs, decoder_inputs], decoder_outputs)\n",
        "model.summary()"
      ],
      "metadata": {
        "colab": {
          "base_uri": "https://localhost:8080/"
        },
        "id": "zjvDvPy57tFz",
        "outputId": "2d3ac490-c53b-44bd-a597-006c40a1c4f6"
      },
      "execution_count": 31,
      "outputs": [
        {
          "output_type": "stream",
          "name": "stdout",
          "text": [
            "Model: \"model\"\n",
            "__________________________________________________________________________________________________\n",
            " Layer (type)                   Output Shape         Param #     Connected to                     \n",
            "==================================================================================================\n",
            " input_1 (InputLayer)           [(None, None)]       0           []                               \n",
            "                                                                                                  \n",
            " input_2 (InputLayer)           [(None, None)]       0           []                               \n",
            "                                                                                                  \n",
            " embedding (Embedding)          (None, None, 300)    4209000     ['input_1[0][0]']                \n",
            "                                                                                                  \n",
            " embedding_1 (Embedding)        (None, None, 300)    5262300     ['input_2[0][0]']                \n",
            "                                                                                                  \n",
            " lstm (LSTM)                    [(None, 300),        721200      ['embedding[0][0]']              \n",
            "                                 (None, 300),                                                     \n",
            "                                 (None, 300)]                                                     \n",
            "                                                                                                  \n",
            " lstm_1 (LSTM)                  [(None, None, 300),  721200      ['embedding_1[0][0]',            \n",
            "                                 (None, 300),                     'lstm[0][1]',                   \n",
            "                                 (None, 300)]                     'lstm[0][2]']                   \n",
            "                                                                                                  \n",
            " dense (Dense)                  (None, None, 17541)  5279841     ['lstm_1[0][0]']                 \n",
            "                                                                                                  \n",
            "==================================================================================================\n",
            "Total params: 16,193,541\n",
            "Trainable params: 16,193,541\n",
            "Non-trainable params: 0\n",
            "__________________________________________________________________________________________________\n"
          ]
        }
      ]
    },
    {
      "cell_type": "code",
      "source": [
        "model.compile(optimizer='rmsprop', loss='categorical_crossentropy', metrics = ['accuracy'])\n"
      ],
      "metadata": {
        "id": "xjjqYi8e8DVB"
      },
      "execution_count": 32,
      "outputs": []
    },
    {
      "cell_type": "code",
      "source": [
        "max_length_src = 20\n",
        "max_length_tar = 20\n",
        "\n",
        "def generate_batch(X = X_train, y = y_train, batch_size = 128):\n",
        "    ''' Generate a batch of data '''\n",
        "    while True:\n",
        "        for j in range(0, len(X), batch_size):\n",
        "            encoder_input_data = np.zeros((batch_size, max_length_src),dtype='float32')\n",
        "            decoder_input_data = np.zeros((batch_size, max_length_tar),dtype='float32')\n",
        "            decoder_target_data = np.zeros((batch_size, max_length_tar, num_decoder_tokens),dtype='float32')\n",
        "            for i, (input_text, target_text) in enumerate(zip(X[j:j+batch_size], y[j:j+batch_size])):\n",
        "                for t, word in enumerate(input_text.split()):\n",
        "                    encoder_input_data[i, t] = input_token_index[word] # encoder input seq\n",
        "                for t, word in enumerate(target_text.split()):\n",
        "                    if t<len(target_text.split())-1:\n",
        "                        decoder_input_data[i, t] = target_token_index[word] # decoder input seq\n",
        "                    if t>0:\n",
        "                        # decoder target sequence (one hot encoded)\n",
        "                        # does not include the START_ token\n",
        "                        # Offset by one timestep\n",
        "                        decoder_target_data[i, t - 1, target_token_index[word]] = 1.\n",
        "            yield([encoder_input_data, decoder_input_data], decoder_target_data)"
      ],
      "metadata": {
        "id": "Lqogdq5U8Fst"
      },
      "execution_count": 33,
      "outputs": []
    },
    {
      "cell_type": "code",
      "source": [
        "train_samples = len(X_train)\n",
        "val_samples = len(X_test)\n",
        "batch_size = 128\n",
        "epochs = 100"
      ],
      "metadata": {
        "id": "-xlmad328Lxc"
      },
      "execution_count": 34,
      "outputs": []
    },
    {
      "cell_type": "code",
      "source": [
        "model.fit_generator(generator = generate_batch(X_train, y_train, batch_size = batch_size),\n",
        "                    steps_per_epoch = train_samples//batch_size,\n",
        "                    epochs=epochs,\n",
        "                    validation_data = generate_batch(X_test, y_test, batch_size = batch_size),\n",
        "                    validation_steps = val_samples//batch_size)"
      ],
      "metadata": {
        "colab": {
          "base_uri": "https://localhost:8080/"
        },
        "id": "ZWtRGiZ38Rm0",
        "outputId": "f8f57a0d-c065-4acb-9d5f-9ad5ecad86da"
      },
      "execution_count": 35,
      "outputs": [
        {
          "output_type": "stream",
          "name": "stderr",
          "text": [
            "<ipython-input-35-b22c3ec5e69e>:1: UserWarning: `Model.fit_generator` is deprecated and will be removed in a future version. Please use `Model.fit`, which supports generators.\n",
            "  model.fit_generator(generator = generate_batch(X_train, y_train, batch_size = batch_size),\n"
          ]
        },
        {
          "output_type": "stream",
          "name": "stdout",
          "text": [
            "Epoch 1/100\n",
            "154/154 [==============================] - 86s 430ms/step - loss: 6.9418 - accuracy: 0.1199 - val_loss: 6.3715 - val_accuracy: 0.1312\n",
            "Epoch 2/100\n",
            "154/154 [==============================] - 53s 338ms/step - loss: 6.3105 - accuracy: 0.1329 - val_loss: 6.3102 - val_accuracy: 0.1335\n",
            "Epoch 3/100\n",
            "154/154 [==============================] - 52s 335ms/step - loss: 6.2637 - accuracy: 0.1343 - val_loss: 6.2882 - val_accuracy: 0.1337\n",
            "Epoch 4/100\n",
            "154/154 [==============================] - 51s 333ms/step - loss: 6.2234 - accuracy: 0.1360 - val_loss: 6.2407 - val_accuracy: 0.1372\n",
            "Epoch 5/100\n",
            "154/154 [==============================] - 50s 327ms/step - loss: 6.1560 - accuracy: 0.1388 - val_loss: 6.1716 - val_accuracy: 0.1419\n",
            "Epoch 6/100\n",
            "154/154 [==============================] - 52s 336ms/step - loss: 6.0792 - accuracy: 0.1426 - val_loss: 6.1085 - val_accuracy: 0.1400\n",
            "Epoch 7/100\n",
            "154/154 [==============================] - 50s 325ms/step - loss: 6.0056 - accuracy: 0.1462 - val_loss: 6.0343 - val_accuracy: 0.1506\n",
            "Epoch 8/100\n",
            "154/154 [==============================] - 51s 334ms/step - loss: 5.9172 - accuracy: 0.1534 - val_loss: 5.9671 - val_accuracy: 0.1584\n",
            "Epoch 9/100\n",
            "154/154 [==============================] - 51s 331ms/step - loss: 5.8355 - accuracy: 0.1620 - val_loss: 5.8991 - val_accuracy: 0.1635\n",
            "Epoch 10/100\n",
            "154/154 [==============================] - 51s 329ms/step - loss: 5.7698 - accuracy: 0.1669 - val_loss: 5.8471 - val_accuracy: 0.1707\n",
            "Epoch 11/100\n",
            "154/154 [==============================] - 50s 327ms/step - loss: 5.7128 - accuracy: 0.1718 - val_loss: 5.8097 - val_accuracy: 0.1748\n",
            "Epoch 12/100\n",
            "154/154 [==============================] - 51s 329ms/step - loss: 5.6616 - accuracy: 0.1758 - val_loss: 5.7745 - val_accuracy: 0.1765\n",
            "Epoch 13/100\n",
            "154/154 [==============================] - 50s 322ms/step - loss: 5.6159 - accuracy: 0.1796 - val_loss: 5.7512 - val_accuracy: 0.1787\n",
            "Epoch 14/100\n",
            "154/154 [==============================] - 50s 324ms/step - loss: 5.5706 - accuracy: 0.1841 - val_loss: 5.7280 - val_accuracy: 0.1858\n",
            "Epoch 15/100\n",
            "154/154 [==============================] - 51s 331ms/step - loss: 5.5253 - accuracy: 0.1888 - val_loss: 5.6889 - val_accuracy: 0.1872\n",
            "Epoch 16/100\n",
            "154/154 [==============================] - 51s 331ms/step - loss: 5.4775 - accuracy: 0.1938 - val_loss: 5.6514 - val_accuracy: 0.1945\n",
            "Epoch 17/100\n",
            "154/154 [==============================] - 49s 322ms/step - loss: 5.4312 - accuracy: 0.1982 - val_loss: 5.6299 - val_accuracy: 0.1914\n",
            "Epoch 18/100\n",
            "154/154 [==============================] - 50s 324ms/step - loss: 5.3841 - accuracy: 0.2027 - val_loss: 5.5931 - val_accuracy: 0.1991\n",
            "Epoch 19/100\n",
            "154/154 [==============================] - 50s 326ms/step - loss: 5.3391 - accuracy: 0.2076 - val_loss: 5.5922 - val_accuracy: 0.1988\n",
            "Epoch 20/100\n",
            "154/154 [==============================] - 50s 323ms/step - loss: 5.2985 - accuracy: 0.2114 - val_loss: 5.5493 - val_accuracy: 0.2078\n",
            "Epoch 21/100\n",
            "154/154 [==============================] - 51s 330ms/step - loss: 5.2563 - accuracy: 0.2157 - val_loss: 5.5297 - val_accuracy: 0.2097\n",
            "Epoch 22/100\n",
            "154/154 [==============================] - 51s 333ms/step - loss: 5.2181 - accuracy: 0.2198 - val_loss: 5.5156 - val_accuracy: 0.2121\n",
            "Epoch 23/100\n",
            "154/154 [==============================] - 50s 326ms/step - loss: 5.1800 - accuracy: 0.2233 - val_loss: 5.5018 - val_accuracy: 0.2141\n",
            "Epoch 24/100\n",
            "154/154 [==============================] - 51s 328ms/step - loss: 5.1392 - accuracy: 0.2267 - val_loss: 5.4696 - val_accuracy: 0.2184\n",
            "Epoch 25/100\n",
            "154/154 [==============================] - 51s 329ms/step - loss: 5.0991 - accuracy: 0.2311 - val_loss: 5.4471 - val_accuracy: 0.2215\n",
            "Epoch 26/100\n",
            "154/154 [==============================] - 50s 323ms/step - loss: 5.0577 - accuracy: 0.2352 - val_loss: 5.4290 - val_accuracy: 0.2230\n",
            "Epoch 27/100\n",
            "154/154 [==============================] - 51s 331ms/step - loss: 5.0168 - accuracy: 0.2390 - val_loss: 5.4079 - val_accuracy: 0.2266\n",
            "Epoch 28/100\n",
            "154/154 [==============================] - 51s 331ms/step - loss: 4.9765 - accuracy: 0.2425 - val_loss: 5.3992 - val_accuracy: 0.2263\n",
            "Epoch 29/100\n",
            "154/154 [==============================] - 50s 326ms/step - loss: 4.9388 - accuracy: 0.2460 - val_loss: 5.3759 - val_accuracy: 0.2293\n",
            "Epoch 30/100\n",
            "154/154 [==============================] - 50s 325ms/step - loss: 4.8995 - accuracy: 0.2496 - val_loss: 5.3593 - val_accuracy: 0.2304\n",
            "Epoch 31/100\n",
            "154/154 [==============================] - 50s 323ms/step - loss: 4.8615 - accuracy: 0.2529 - val_loss: 5.3518 - val_accuracy: 0.2327\n",
            "Epoch 32/100\n",
            "154/154 [==============================] - 51s 329ms/step - loss: 4.8241 - accuracy: 0.2560 - val_loss: 5.3362 - val_accuracy: 0.2335\n",
            "Epoch 33/100\n",
            "154/154 [==============================] - 50s 323ms/step - loss: 4.7860 - accuracy: 0.2597 - val_loss: 5.3214 - val_accuracy: 0.2365\n",
            "Epoch 34/100\n",
            "154/154 [==============================] - 50s 324ms/step - loss: 4.7508 - accuracy: 0.2624 - val_loss: 5.3145 - val_accuracy: 0.2370\n",
            "Epoch 35/100\n",
            "154/154 [==============================] - 50s 327ms/step - loss: 4.7151 - accuracy: 0.2656 - val_loss: 5.3065 - val_accuracy: 0.2373\n",
            "Epoch 36/100\n",
            "154/154 [==============================] - 50s 325ms/step - loss: 4.6798 - accuracy: 0.2687 - val_loss: 5.2979 - val_accuracy: 0.2387\n",
            "Epoch 37/100\n",
            "154/154 [==============================] - 51s 331ms/step - loss: 4.6460 - accuracy: 0.2712 - val_loss: 5.2877 - val_accuracy: 0.2387\n",
            "Epoch 38/100\n",
            "154/154 [==============================] - 50s 324ms/step - loss: 4.6129 - accuracy: 0.2740 - val_loss: 5.2802 - val_accuracy: 0.2403\n",
            "Epoch 39/100\n",
            "154/154 [==============================] - 51s 328ms/step - loss: 4.5756 - accuracy: 0.2769 - val_loss: 5.2752 - val_accuracy: 0.2387\n",
            "Epoch 40/100\n",
            "154/154 [==============================] - 50s 328ms/step - loss: 4.5413 - accuracy: 0.2801 - val_loss: 5.2627 - val_accuracy: 0.2424\n",
            "Epoch 41/100\n",
            "154/154 [==============================] - 50s 324ms/step - loss: 4.5076 - accuracy: 0.2830 - val_loss: 5.2556 - val_accuracy: 0.2432\n",
            "Epoch 42/100\n",
            "154/154 [==============================] - 51s 329ms/step - loss: 4.4751 - accuracy: 0.2858 - val_loss: 5.2605 - val_accuracy: 0.2429\n",
            "Epoch 43/100\n",
            "154/154 [==============================] - 51s 329ms/step - loss: 4.4421 - accuracy: 0.2883 - val_loss: 5.2440 - val_accuracy: 0.2454\n",
            "Epoch 44/100\n",
            "154/154 [==============================] - 51s 331ms/step - loss: 4.4081 - accuracy: 0.2910 - val_loss: 5.2395 - val_accuracy: 0.2460\n",
            "Epoch 45/100\n",
            "154/154 [==============================] - 51s 329ms/step - loss: 4.3775 - accuracy: 0.2937 - val_loss: 5.2331 - val_accuracy: 0.2453\n",
            "Epoch 46/100\n",
            "154/154 [==============================] - 50s 324ms/step - loss: 4.3435 - accuracy: 0.2963 - val_loss: 5.2295 - val_accuracy: 0.2475\n",
            "Epoch 47/100\n",
            "154/154 [==============================] - 50s 324ms/step - loss: 4.3124 - accuracy: 0.2997 - val_loss: 5.2231 - val_accuracy: 0.2470\n",
            "Epoch 48/100\n",
            "154/154 [==============================] - 50s 322ms/step - loss: 4.2809 - accuracy: 0.3022 - val_loss: 5.2303 - val_accuracy: 0.2468\n",
            "Epoch 49/100\n",
            "154/154 [==============================] - 52s 336ms/step - loss: 4.2513 - accuracy: 0.3043 - val_loss: 5.2199 - val_accuracy: 0.2498\n",
            "Epoch 50/100\n",
            "154/154 [==============================] - 51s 330ms/step - loss: 4.2188 - accuracy: 0.3068 - val_loss: 5.2211 - val_accuracy: 0.2487\n",
            "Epoch 51/100\n",
            "154/154 [==============================] - 52s 336ms/step - loss: 4.1881 - accuracy: 0.3097 - val_loss: 5.2186 - val_accuracy: 0.2493\n",
            "Epoch 52/100\n",
            "154/154 [==============================] - 51s 330ms/step - loss: 4.1566 - accuracy: 0.3129 - val_loss: 5.2215 - val_accuracy: 0.2473\n",
            "Epoch 53/100\n",
            "154/154 [==============================] - 50s 327ms/step - loss: 4.1278 - accuracy: 0.3152 - val_loss: 5.2171 - val_accuracy: 0.2512\n",
            "Epoch 54/100\n",
            "154/154 [==============================] - 50s 324ms/step - loss: 4.0963 - accuracy: 0.3178 - val_loss: 5.2152 - val_accuracy: 0.2497\n",
            "Epoch 55/100\n",
            "154/154 [==============================] - 51s 330ms/step - loss: 4.0665 - accuracy: 0.3202 - val_loss: 5.2224 - val_accuracy: 0.2513\n",
            "Epoch 56/100\n",
            "154/154 [==============================] - 50s 328ms/step - loss: 4.0373 - accuracy: 0.3229 - val_loss: 5.2228 - val_accuracy: 0.2519\n",
            "Epoch 57/100\n",
            "154/154 [==============================] - 51s 331ms/step - loss: 4.0084 - accuracy: 0.3258 - val_loss: 5.2209 - val_accuracy: 0.2527\n",
            "Epoch 58/100\n",
            "154/154 [==============================] - 51s 329ms/step - loss: 3.9775 - accuracy: 0.3285 - val_loss: 5.2316 - val_accuracy: 0.2510\n",
            "Epoch 59/100\n",
            "154/154 [==============================] - 51s 331ms/step - loss: 3.9512 - accuracy: 0.3308 - val_loss: 5.2265 - val_accuracy: 0.2520\n",
            "Epoch 60/100\n",
            "154/154 [==============================] - 50s 328ms/step - loss: 3.9208 - accuracy: 0.3340 - val_loss: 5.2342 - val_accuracy: 0.2519\n",
            "Epoch 61/100\n",
            "154/154 [==============================] - 50s 326ms/step - loss: 3.8908 - accuracy: 0.3364 - val_loss: 5.2480 - val_accuracy: 0.2519\n",
            "Epoch 62/100\n",
            "154/154 [==============================] - 51s 334ms/step - loss: 3.8622 - accuracy: 0.3381 - val_loss: 5.2392 - val_accuracy: 0.2526\n",
            "Epoch 63/100\n",
            "154/154 [==============================] - 51s 333ms/step - loss: 3.8340 - accuracy: 0.3416 - val_loss: 5.2393 - val_accuracy: 0.2526\n",
            "Epoch 64/100\n",
            "154/154 [==============================] - 50s 324ms/step - loss: 3.8045 - accuracy: 0.3440 - val_loss: 5.2475 - val_accuracy: 0.2509\n",
            "Epoch 65/100\n",
            "154/154 [==============================] - 51s 330ms/step - loss: 3.7766 - accuracy: 0.3463 - val_loss: 5.2532 - val_accuracy: 0.2494\n",
            "Epoch 66/100\n",
            "154/154 [==============================] - 50s 327ms/step - loss: 3.7481 - accuracy: 0.3491 - val_loss: 5.2523 - val_accuracy: 0.2501\n",
            "Epoch 67/100\n",
            "154/154 [==============================] - 50s 322ms/step - loss: 3.7205 - accuracy: 0.3513 - val_loss: 5.2538 - val_accuracy: 0.2492\n",
            "Epoch 68/100\n",
            "154/154 [==============================] - 51s 331ms/step - loss: 3.6921 - accuracy: 0.3537 - val_loss: 5.2581 - val_accuracy: 0.2496\n",
            "Epoch 69/100\n",
            "154/154 [==============================] - 49s 321ms/step - loss: 3.6645 - accuracy: 0.3568 - val_loss: 5.2645 - val_accuracy: 0.2502\n",
            "Epoch 70/100\n",
            "154/154 [==============================] - 51s 331ms/step - loss: 3.6360 - accuracy: 0.3595 - val_loss: 5.2725 - val_accuracy: 0.2525\n",
            "Epoch 71/100\n",
            "154/154 [==============================] - 50s 327ms/step - loss: 3.6102 - accuracy: 0.3612 - val_loss: 5.2826 - val_accuracy: 0.2508\n",
            "Epoch 72/100\n",
            "154/154 [==============================] - 50s 323ms/step - loss: 3.5806 - accuracy: 0.3647 - val_loss: 5.2888 - val_accuracy: 0.2493\n",
            "Epoch 73/100\n",
            "154/154 [==============================] - 50s 328ms/step - loss: 3.5523 - accuracy: 0.3671 - val_loss: 5.2913 - val_accuracy: 0.2490\n",
            "Epoch 74/100\n",
            "154/154 [==============================] - 50s 327ms/step - loss: 3.5243 - accuracy: 0.3699 - val_loss: 5.2985 - val_accuracy: 0.2476\n",
            "Epoch 75/100\n",
            "154/154 [==============================] - 50s 325ms/step - loss: 3.5026 - accuracy: 0.3722 - val_loss: 5.3133 - val_accuracy: 0.2519\n",
            "Epoch 76/100\n",
            "154/154 [==============================] - 50s 325ms/step - loss: 3.4708 - accuracy: 0.3748 - val_loss: 5.3101 - val_accuracy: 0.2507\n",
            "Epoch 77/100\n",
            "154/154 [==============================] - 50s 325ms/step - loss: 3.4413 - accuracy: 0.3781 - val_loss: 5.3301 - val_accuracy: 0.2474\n",
            "Epoch 78/100\n",
            "154/154 [==============================] - 51s 328ms/step - loss: 3.4141 - accuracy: 0.3811 - val_loss: 5.3247 - val_accuracy: 0.2504\n",
            "Epoch 79/100\n",
            "154/154 [==============================] - 51s 330ms/step - loss: 3.3870 - accuracy: 0.3840 - val_loss: 5.3414 - val_accuracy: 0.2502\n",
            "Epoch 80/100\n",
            "154/154 [==============================] - 50s 328ms/step - loss: 3.3595 - accuracy: 0.3863 - val_loss: 5.3625 - val_accuracy: 0.2509\n",
            "Epoch 81/100\n",
            "154/154 [==============================] - 51s 329ms/step - loss: 3.3320 - accuracy: 0.3891 - val_loss: 5.3595 - val_accuracy: 0.2484\n",
            "Epoch 82/100\n",
            "154/154 [==============================] - 51s 331ms/step - loss: 3.3054 - accuracy: 0.3919 - val_loss: 5.3659 - val_accuracy: 0.2473\n",
            "Epoch 83/100\n",
            "154/154 [==============================] - 51s 329ms/step - loss: 3.2775 - accuracy: 0.3948 - val_loss: 5.3717 - val_accuracy: 0.2518\n",
            "Epoch 84/100\n",
            "154/154 [==============================] - 51s 330ms/step - loss: 3.2498 - accuracy: 0.3979 - val_loss: 5.3915 - val_accuracy: 0.2507\n",
            "Epoch 85/100\n",
            "154/154 [==============================] - 51s 330ms/step - loss: 3.2238 - accuracy: 0.4005 - val_loss: 5.3954 - val_accuracy: 0.2489\n",
            "Epoch 86/100\n",
            "154/154 [==============================] - 51s 329ms/step - loss: 3.1964 - accuracy: 0.4040 - val_loss: 5.3966 - val_accuracy: 0.2494\n",
            "Epoch 87/100\n",
            "154/154 [==============================] - 51s 329ms/step - loss: 3.1678 - accuracy: 0.4070 - val_loss: 5.4182 - val_accuracy: 0.2474\n",
            "Epoch 88/100\n",
            "154/154 [==============================] - 51s 333ms/step - loss: 3.1417 - accuracy: 0.4101 - val_loss: 5.4185 - val_accuracy: 0.2489\n",
            "Epoch 89/100\n",
            "154/154 [==============================] - 50s 323ms/step - loss: 3.1135 - accuracy: 0.4133 - val_loss: 5.4374 - val_accuracy: 0.2463\n",
            "Epoch 90/100\n",
            "154/154 [==============================] - 51s 332ms/step - loss: 3.0866 - accuracy: 0.4159 - val_loss: 5.4383 - val_accuracy: 0.2464\n",
            "Epoch 91/100\n",
            "154/154 [==============================] - 51s 331ms/step - loss: 3.0594 - accuracy: 0.4186 - val_loss: 5.4497 - val_accuracy: 0.2476\n",
            "Epoch 92/100\n",
            "154/154 [==============================] - 50s 322ms/step - loss: 3.0317 - accuracy: 0.4224 - val_loss: 5.4619 - val_accuracy: 0.2483\n",
            "Epoch 93/100\n",
            "154/154 [==============================] - 50s 326ms/step - loss: 3.0032 - accuracy: 0.4255 - val_loss: 5.4640 - val_accuracy: 0.2485\n",
            "Epoch 94/100\n",
            "154/154 [==============================] - 50s 328ms/step - loss: 2.9782 - accuracy: 0.4287 - val_loss: 5.4820 - val_accuracy: 0.2473\n",
            "Epoch 95/100\n",
            "154/154 [==============================] - 50s 324ms/step - loss: 2.9495 - accuracy: 0.4321 - val_loss: 5.5035 - val_accuracy: 0.2494\n",
            "Epoch 96/100\n",
            "154/154 [==============================] - 50s 326ms/step - loss: 2.9213 - accuracy: 0.4360 - val_loss: 5.5123 - val_accuracy: 0.2473\n",
            "Epoch 97/100\n",
            "154/154 [==============================] - 50s 323ms/step - loss: 2.8936 - accuracy: 0.4391 - val_loss: 5.5183 - val_accuracy: 0.2465\n",
            "Epoch 98/100\n",
            "154/154 [==============================] - 51s 332ms/step - loss: 2.8672 - accuracy: 0.4429 - val_loss: 5.5203 - val_accuracy: 0.2454\n",
            "Epoch 99/100\n",
            "154/154 [==============================] - 50s 323ms/step - loss: 2.8401 - accuracy: 0.4463 - val_loss: 5.5293 - val_accuracy: 0.2446\n",
            "Epoch 100/100\n",
            "154/154 [==============================] - 51s 329ms/step - loss: 2.8126 - accuracy: 0.4496 - val_loss: 5.5332 - val_accuracy: 0.2420\n"
          ]
        },
        {
          "output_type": "execute_result",
          "data": {
            "text/plain": [
              "<keras.callbacks.History at 0x7f4bd01733a0>"
            ]
          },
          "metadata": {},
          "execution_count": 35
        }
      ]
    },
    {
      "cell_type": "code",
      "execution_count": 36,
      "metadata": {
        "id": "r3NnhebX3SnB"
      },
      "outputs": [],
      "source": [
        "model.save_weights('nmt_weights.h5')"
      ]
    },
    {
      "cell_type": "markdown",
      "source": [
        "# Building Model"
      ],
      "metadata": {
        "id": "l_t-YWNcsDu_"
      }
    },
    {
      "cell_type": "code",
      "execution_count": 37,
      "metadata": {
        "id": "ohtpGauX3SnB"
      },
      "outputs": [],
      "source": [
        "# Encode the input sequence to get the \"thought vectors\"\n",
        "encoder_model = Model(encoder_inputs, encoder_states)\n",
        "\n",
        "# Decoder setup\n",
        "# Below tensors will hold the states of the previous time step\n",
        "decoder_state_input_h = Input(shape=(latent_dim,))\n",
        "decoder_state_input_c = Input(shape=(latent_dim,))\n",
        "decoder_states_inputs = [decoder_state_input_h, decoder_state_input_c]\n",
        "\n",
        "dec_emb2= dec_emb_layer(decoder_inputs) # Get the embeddings of the decoder sequence\n",
        "\n",
        "# To predict the next word in the sequence, set the initial states to the states from the previous time step\n",
        "decoder_outputs2, state_h2, state_c2 = decoder_lstm(dec_emb2, initial_state=decoder_states_inputs)\n",
        "decoder_states2 = [state_h2, state_c2]\n",
        "decoder_outputs2 = decoder_dense(decoder_outputs2) # A dense softmax layer to generate prob dist. over the target vocabulary\n",
        "\n",
        "# Final decoder model\n",
        "decoder_model = Model(\n",
        "    [decoder_inputs] + decoder_states_inputs,\n",
        "    [decoder_outputs2] + decoder_states2)\n"
      ]
    },
    {
      "cell_type": "code",
      "execution_count": 38,
      "metadata": {
        "id": "YJfPvNYn3SnC"
      },
      "outputs": [],
      "source": [
        "def decode_sequence(input_seq):\n",
        "    # Encode the input as state vectors.\n",
        "    states_value = encoder_model.predict(input_seq)\n",
        "    # Generate empty target sequence of length 1.\n",
        "    target_seq = np.zeros((1,1))\n",
        "    # Populate the first character of target sequence with the start character.\n",
        "    target_seq[0, 0] = target_token_index['START_']\n",
        "\n",
        "    # Sampling loop for a batch of sequences\n",
        "    # (to simplify, here we assume a batch of size 1).\n",
        "    stop_condition = False\n",
        "    decoded_sentence = ''\n",
        "    while not stop_condition:\n",
        "        output_tokens, h, c = decoder_model.predict([target_seq] + states_value)\n",
        "\n",
        "        # Sample a token\n",
        "        sampled_token_index = np.argmax(output_tokens[0, -1, :])\n",
        "        sampled_char = reverse_target_char_index[sampled_token_index]\n",
        "        decoded_sentence += ' '+sampled_char\n",
        "\n",
        "        # Exit condition: either hit max length\n",
        "        # or find stop character.\n",
        "        if (sampled_char == '_END' or\n",
        "           len(decoded_sentence) > 50):\n",
        "            stop_condition = True\n",
        "\n",
        "        # Update the target sequence (of length 1).\n",
        "        target_seq = np.zeros((1,1))\n",
        "        target_seq[0, 0] = sampled_token_index\n",
        "\n",
        "        # Update states\n",
        "        states_value = [h, c]\n",
        "\n",
        "    return decoded_sentence"
      ]
    },
    {
      "cell_type": "code",
      "execution_count": 39,
      "metadata": {
        "id": "yeg_fFRa3SnC"
      },
      "outputs": [],
      "source": [
        "train_gen = generate_batch(X_train, y_train, batch_size = 1)\n",
        "k=-1\n"
      ]
    },
    {
      "cell_type": "markdown",
      "source": [
        "# Making Prediction"
      ],
      "metadata": {
        "id": "h0ROraQjsPyK"
      }
    },
    {
      "cell_type": "code",
      "execution_count": 40,
      "metadata": {
        "colab": {
          "base_uri": "https://localhost:8080/"
        },
        "id": "Oi8JFfbh3SnC",
        "outputId": "e8767c8b-bfbe-4dc6-c309-14844dee6202"
      },
      "outputs": [
        {
          "output_type": "stream",
          "name": "stdout",
          "text": [
            "1/1 [==============================] - 1s 1s/step\n",
            "1/1 [==============================] - 1s 1s/step\n",
            "1/1 [==============================] - 0s 20ms/step\n",
            "1/1 [==============================] - 0s 20ms/step\n",
            "1/1 [==============================] - 0s 20ms/step\n",
            "1/1 [==============================] - 0s 26ms/step\n",
            "1/1 [==============================] - 0s 23ms/step\n",
            "1/1 [==============================] - 0s 23ms/step\n",
            "1/1 [==============================] - 0s 22ms/step\n",
            "1/1 [==============================] - 0s 21ms/step\n",
            "1/1 [==============================] - 0s 22ms/step\n",
            "1/1 [==============================] - 0s 21ms/step\n",
            "1/1 [==============================] - 0s 20ms/step\n",
            "Input English sentence: yes theres a guy walking across your screen\n",
            "Actual Hindi Translation:  हाँ वहाँ एक आदमी अपनी स्क्रीन के पार चलने लगता है \n",
            "Predicted Hindi Translation:  यहाँ एक दिन में है जब तक आप नीचे भी नहीं \n"
          ]
        }
      ],
      "source": [
        "k+=1\n",
        "(input_seq, actual_output), _ = next(train_gen)\n",
        "decoded_sentence = decode_sequence(input_seq)\n",
        "print('Input English sentence:', X_train[k:k+1].values[0])\n",
        "print('Actual Hindi Translation:', y_train[k:k+1].values[0][6:-4])\n",
        "print('Predicted Hindi Translation:', decoded_sentence[:-4])"
      ]
    },
    {
      "cell_type": "code",
      "execution_count": 41,
      "metadata": {
        "colab": {
          "base_uri": "https://localhost:8080/"
        },
        "id": "gjjVn6vF3SnC",
        "outputId": "305affd0-6e4b-45b8-8d9f-c0fe4dcce1ec"
      },
      "outputs": [
        {
          "output_type": "stream",
          "name": "stdout",
          "text": [
            "1/1 [==============================] - 0s 19ms/step\n",
            "1/1 [==============================] - 0s 20ms/step\n",
            "1/1 [==============================] - 0s 20ms/step\n",
            "1/1 [==============================] - 0s 23ms/step\n",
            "1/1 [==============================] - 0s 20ms/step\n",
            "1/1 [==============================] - 0s 20ms/step\n",
            "1/1 [==============================] - 0s 21ms/step\n",
            "1/1 [==============================] - 0s 22ms/step\n",
            "1/1 [==============================] - 0s 21ms/step\n",
            "1/1 [==============================] - 0s 20ms/step\n",
            "1/1 [==============================] - 0s 30ms/step\n",
            "1/1 [==============================] - 0s 20ms/step\n",
            "1/1 [==============================] - 0s 21ms/step\n",
            "Input English sentence: the other thing its generated obviously a lot of economic value\n",
            "Actual Hindi Translation:  एक बात और इसने यक़ीनन बहुत आर्थिक लाभ करवाया है \n",
            "Predicted Hindi Translation:  एक ही बहुत ही ज्यादा ज्यादा है और ये बहुत ही महत्वप\n"
          ]
        }
      ],
      "source": [
        "k+=1\n",
        "(input_seq, actual_output), _ = next(train_gen)\n",
        "decoded_sentence = decode_sequence(input_seq)\n",
        "print('Input English sentence:', X_train[k:k+1].values[0])\n",
        "print('Actual Hindi Translation:', y_train[k:k+1].values[0][6:-4])\n",
        "print('Predicted Hindi Translation:', decoded_sentence[:-4])"
      ]
    },
    {
      "cell_type": "code",
      "execution_count": 42,
      "metadata": {
        "colab": {
          "base_uri": "https://localhost:8080/"
        },
        "id": "RJQRGQS03SnC",
        "outputId": "91faffb3-dae1-44dd-f14d-0c1233ab7e27"
      },
      "outputs": [
        {
          "output_type": "stream",
          "name": "stdout",
          "text": [
            "1/1 [==============================] - 0s 20ms/step\n",
            "1/1 [==============================] - 0s 35ms/step\n",
            "1/1 [==============================] - 0s 40ms/step\n",
            "1/1 [==============================] - 0s 32ms/step\n",
            "1/1 [==============================] - 0s 34ms/step\n",
            "1/1 [==============================] - 0s 33ms/step\n",
            "1/1 [==============================] - 0s 34ms/step\n",
            "1/1 [==============================] - 0s 33ms/step\n",
            "1/1 [==============================] - 0s 41ms/step\n",
            "1/1 [==============================] - 0s 32ms/step\n",
            "1/1 [==============================] - 0s 35ms/step\n",
            "Input English sentence: not to do the bad thing\n",
            "Actual Hindi Translation:  कि हम ग़लत काम न करें \n",
            "Predicted Hindi Translation:  कि न ही हमें इसके लिए कुछ भी नहीं \n"
          ]
        }
      ],
      "source": [
        "k+=1\n",
        "(input_seq, actual_output), _ = next(train_gen)\n",
        "decoded_sentence = decode_sequence(input_seq)\n",
        "print('Input English sentence:', X_train[k:k+1].values[0])\n",
        "print('Actual Hindi Translation:', y_train[k:k+1].values[0][6:-4])\n",
        "print('Predicted Hindi Translation:', decoded_sentence[:-4])"
      ]
    },
    {
      "cell_type": "code",
      "execution_count": 43,
      "metadata": {
        "colab": {
          "base_uri": "https://localhost:8080/"
        },
        "id": "P2_i6-Y43SnC",
        "outputId": "e33c414f-e62f-4232-c2cc-b60dd1f9cd95"
      },
      "outputs": [
        {
          "output_type": "stream",
          "name": "stdout",
          "text": [
            "1/1 [==============================] - 0s 26ms/step\n",
            "1/1 [==============================] - 0s 36ms/step\n",
            "1/1 [==============================] - 0s 33ms/step\n",
            "1/1 [==============================] - 0s 38ms/step\n",
            "1/1 [==============================] - 0s 34ms/step\n",
            "1/1 [==============================] - 0s 31ms/step\n",
            "1/1 [==============================] - 0s 32ms/step\n",
            "1/1 [==============================] - 0s 30ms/step\n",
            "1/1 [==============================] - 0s 32ms/step\n",
            "1/1 [==============================] - 0s 31ms/step\n",
            "1/1 [==============================] - 0s 31ms/step\n",
            "1/1 [==============================] - 0s 32ms/step\n",
            "Input English sentence: in one that is determined to liberate and fulfill\n",
            "Actual Hindi Translation:  उसमे जिसने ढृढ़ निश्चय कर लिया है स्वतन्त्र होने का और \n",
            "Predicted Hindi Translation:  उस समय में हमें बहुत ही ज्यादा ज्यादा ज्यादा है \n"
          ]
        }
      ],
      "source": [
        "k+=1\n",
        "(input_seq, actual_output), _ = next(train_gen)\n",
        "decoded_sentence = decode_sequence(input_seq)\n",
        "print('Input English sentence:', X_train[k:k+1].values[0])\n",
        "print('Actual Hindi Translation:', y_train[k:k+1].values[0][6:-4])\n",
        "print('Predicted Hindi Translation:', decoded_sentence[:-4])"
      ]
    },
    {
      "cell_type": "code",
      "execution_count": 44,
      "metadata": {
        "colab": {
          "base_uri": "https://localhost:8080/"
        },
        "id": "wIMMiGfo3SnD",
        "outputId": "1d3af532-b834-44dd-dcae-f8d47373f14a"
      },
      "outputs": [
        {
          "output_type": "stream",
          "name": "stdout",
          "text": [
            "1/1 [==============================] - 0s 27ms/step\n",
            "1/1 [==============================] - 0s 31ms/step\n",
            "1/1 [==============================] - 0s 20ms/step\n",
            "1/1 [==============================] - 0s 21ms/step\n",
            "1/1 [==============================] - 0s 23ms/step\n",
            "1/1 [==============================] - 0s 20ms/step\n",
            "1/1 [==============================] - 0s 21ms/step\n",
            "1/1 [==============================] - 0s 21ms/step\n",
            "1/1 [==============================] - 0s 20ms/step\n",
            "1/1 [==============================] - 0s 21ms/step\n",
            "1/1 [==============================] - 0s 22ms/step\n",
            "1/1 [==============================] - 0s 22ms/step\n",
            "1/1 [==============================] - 0s 20ms/step\n",
            "1/1 [==============================] - 0s 21ms/step\n",
            "1/1 [==============================] - 0s 21ms/step\n",
            "Input English sentence: he cant use the stones but he can stop them\n",
            "Actual Hindi Translation:  वो ख़ुद इन पत्थरों का इस्तेमाल तो नहीं कर सकता है मगर वो इन्हें रोक सकता है। \n",
            "Predicted Hindi Translation:  वो ये नहीं कर सकता है और वे क्या कर सकते हैं क\n"
          ]
        }
      ],
      "source": [
        "k+=1\n",
        "(input_seq, actual_output), _ = next(train_gen)\n",
        "decoded_sentence = decode_sequence(input_seq)\n",
        "print('Input English sentence:', X_train[k:k+1].values[0])\n",
        "print('Actual Hindi Translation:', y_train[k:k+1].values[0][6:-4])\n",
        "print('Predicted Hindi Translation:', decoded_sentence[:-4])"
      ]
    }
  ],
  "metadata": {
    "kernelspec": {
      "display_name": "Python 3",
      "name": "python3"
    },
    "language_info": {
      "codemirror_mode": {
        "name": "ipython",
        "version": 3
      },
      "file_extension": ".py",
      "mimetype": "text/x-python",
      "name": "python",
      "nbconvert_exporter": "python",
      "pygments_lexer": "ipython3",
      "version": "3.6.4"
    },
    "colab": {
      "provenance": [],
      "gpuType": "T4"
    },
    "accelerator": "GPU"
  },
  "nbformat": 4,
  "nbformat_minor": 0
}